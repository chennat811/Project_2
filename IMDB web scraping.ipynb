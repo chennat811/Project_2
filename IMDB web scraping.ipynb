{
 "cells": [
  {
   "cell_type": "code",
   "execution_count": 2,
   "metadata": {},
   "outputs": [],
   "source": [
    "from bs4 import BeautifulSoup\n",
    "import requests\n",
    "import pandas as pd\n",
    "import pickle as pkl\n",
    "from time import sleep\n",
    "import random\n",
    "import sys\n",
    "sys.setrecursionlimit(10000)"
   ]
  },
  {
   "cell_type": "code",
   "execution_count": 6,
   "metadata": {},
   "outputs": [],
   "source": [
    "sleep(random.randint(3, 7))\n",
    "titles = []\n",
    "links = []\n",
    "links_list = ['https://www.imdb.com/search/title/?genres=documentary&countries=us&count=250', 'https://www.imdb.com/search/title/?genres=documentary&countries=us&count=250&start=251&ref_=adv_nxt', 'https://www.imdb.com/search/title/?genres=documentary&countries=us&count=250&start=501&ref_=adv_nxt', 'https://www.imdb.com/search/title/?genres=documentary&countries=us&count=250&start=751&ref_=adv_nxt']\n",
    "for i in links_list:\n",
    "    titles_interim =[]\n",
    "    source_code =  requests.get(i)\n",
    "    soup = BeautifulSoup(source_code.text, 'html5lib')\n",
    "    results = soup.find_all(class_='lister-item-content')\n",
    "    for i in range(len(results)):\n",
    "        title = results[i].find('a').contents\n",
    "        titles_interim.append(title)\n",
    "    for i in titles_interim:\n",
    "        titles.append(i[0])\n",
    "        \n",
    "    results = soup.find_all(class_='lister-item-content')\n",
    "    for i in range(len(results)):\n",
    "        link = results[i].find('a').get('href')\n",
    "        full_link = \"https://www.imdb.com\" + link + \"?ref_=adv_li_tt\"\n",
    "        links.append(full_link)\n",
    "        "
   ]
  },
  {
   "cell_type": "code",
   "execution_count": 10,
   "metadata": {},
   "outputs": [],
   "source": [
    "user_rating = []\n",
    "metacritic = []\n",
    "num_votes = []\n",
    "running_time=[]\n",
    "release_date = []\n",
    "director = []\n",
    "for link in links:\n",
    "    soup = BeautifulSoup(requests.get(link).text, \"html5lib\")\n",
    "    try:\n",
    "        user_rating.append(soup.find(itemprop='ratingValue').text)\n",
    "    except AttributeError:\n",
    "        user_rating.append('N/A')\n",
    "    try:\n",
    "        num_votes.append(soup.find('span', class_='small', itemprop='ratingCount').text)\n",
    "    except AttributeError:\n",
    "        num_votes.append('N/A')\n",
    "    try:\n",
    "        running_time.append(soup.find('div', class_='subtext').time.text.strip())\n",
    "    except AttributeError:\n",
    "        running_time.append('N/A')\n",
    "    try:\n",
    "        release_date.append(soup.find('a', title='See more release dates').text.strip())\n",
    "    except AttributeError:\n",
    "        release_date.append('N/A')\n",
    "    try:\n",
    "        director.append(soup.find_all('div', class_='credit_summary_item')[0].a.text)\n",
    "    except AttributeError:\n",
    "        director.append('N/A')\n",
    "    except IndexError:\n",
    "        director.append('N/A')            \n",
    "    try:\n",
    "        metacritic.append(soup.find(class_='metacriticScore score_favorable titleReviewBarSubItem').text.strip())\n",
    "    except AttributeError:\n",
    "        metacritic.append('N/A')\n"
   ]
  },
  {
   "cell_type": "code",
   "execution_count": 11,
   "metadata": {},
   "outputs": [
    {
     "data": {
      "text/html": [
       "<div>\n",
       "<style scoped>\n",
       "    .dataframe tbody tr th:only-of-type {\n",
       "        vertical-align: middle;\n",
       "    }\n",
       "\n",
       "    .dataframe tbody tr th {\n",
       "        vertical-align: top;\n",
       "    }\n",
       "\n",
       "    .dataframe thead th {\n",
       "        text-align: right;\n",
       "    }\n",
       "</style>\n",
       "<table border=\"1\" class=\"dataframe\">\n",
       "  <thead>\n",
       "    <tr style=\"text-align: right;\">\n",
       "      <th></th>\n",
       "      <th>Title</th>\n",
       "      <th>User Rating</th>\n",
       "      <th>Metacritic</th>\n",
       "      <th>Number of Votes</th>\n",
       "      <th>Running Time</th>\n",
       "      <th>Release Date</th>\n",
       "      <th>Director</th>\n",
       "    </tr>\n",
       "  </thead>\n",
       "  <tbody>\n",
       "    <tr>\n",
       "      <th>0</th>\n",
       "      <td>The Social Dilemma</td>\n",
       "      <td>7.8</td>\n",
       "      <td>78</td>\n",
       "      <td>29,408</td>\n",
       "      <td>1h 34min</td>\n",
       "      <td>9 September 2020 (USA)</td>\n",
       "      <td>Jeff Orlowski</td>\n",
       "    </tr>\n",
       "    <tr>\n",
       "      <th>1</th>\n",
       "      <td>The Vow</td>\n",
       "      <td>7.6</td>\n",
       "      <td>N/A</td>\n",
       "      <td>770</td>\n",
       "      <td>N/A</td>\n",
       "      <td>TV Series (2020– )</td>\n",
       "      <td>Anthony Ames</td>\n",
       "    </tr>\n",
       "    <tr>\n",
       "      <th>2</th>\n",
       "      <td>RBG</td>\n",
       "      <td>7.6</td>\n",
       "      <td>71</td>\n",
       "      <td>11,256</td>\n",
       "      <td>1h 38min</td>\n",
       "      <td>26 July 2018 (Australia)</td>\n",
       "      <td>Julie Cohen</td>\n",
       "    </tr>\n",
       "    <tr>\n",
       "      <th>3</th>\n",
       "      <td>Challenger: The Final Flight</td>\n",
       "      <td>8.0</td>\n",
       "      <td>N/A</td>\n",
       "      <td>2,367</td>\n",
       "      <td>2h 59min</td>\n",
       "      <td>TV Mini-Series (2020)</td>\n",
       "      <td>Steven Leckart</td>\n",
       "    </tr>\n",
       "    <tr>\n",
       "      <th>4</th>\n",
       "      <td>Kiss the Ground</td>\n",
       "      <td>8.3</td>\n",
       "      <td>N/A</td>\n",
       "      <td>1,485</td>\n",
       "      <td>1h 24min</td>\n",
       "      <td>April 2020 (USA)</td>\n",
       "      <td>Joshua Tickell</td>\n",
       "    </tr>\n",
       "    <tr>\n",
       "      <th>...</th>\n",
       "      <td>...</td>\n",
       "      <td>...</td>\n",
       "      <td>...</td>\n",
       "      <td>...</td>\n",
       "      <td>...</td>\n",
       "      <td>...</td>\n",
       "      <td>...</td>\n",
       "    </tr>\n",
       "    <tr>\n",
       "      <th>995</th>\n",
       "      <td>Terror in the Aisles</td>\n",
       "      <td>6.5</td>\n",
       "      <td>N/A</td>\n",
       "      <td>1,747</td>\n",
       "      <td>1h 24min</td>\n",
       "      <td>26 October 1984 (USA)</td>\n",
       "      <td>Andrew J. Kuehn</td>\n",
       "    </tr>\n",
       "    <tr>\n",
       "      <th>996</th>\n",
       "      <td>Born Into Brothels: Calcutta's Red Light Kids</td>\n",
       "      <td>7.2</td>\n",
       "      <td>78</td>\n",
       "      <td>16,012</td>\n",
       "      <td>1h 25min</td>\n",
       "      <td>11 March 2005 (USA)</td>\n",
       "      <td>Zana Briski</td>\n",
       "    </tr>\n",
       "    <tr>\n",
       "      <th>997</th>\n",
       "      <td>Who Killed the Electric Car?</td>\n",
       "      <td>7.6</td>\n",
       "      <td>70</td>\n",
       "      <td>12,074</td>\n",
       "      <td>1h 32min</td>\n",
       "      <td>4 August 2006 (USA)</td>\n",
       "      <td>Chris Paine</td>\n",
       "    </tr>\n",
       "    <tr>\n",
       "      <th>998</th>\n",
       "      <td>Dear...</td>\n",
       "      <td>6.7</td>\n",
       "      <td>N/A</td>\n",
       "      <td>174</td>\n",
       "      <td>30min</td>\n",
       "      <td>TV Series (2020– )</td>\n",
       "      <td>Rachael Iczkowski</td>\n",
       "    </tr>\n",
       "    <tr>\n",
       "      <th>999</th>\n",
       "      <td>Jonestown: The Life and Death of Peoples Temple</td>\n",
       "      <td>7.8</td>\n",
       "      <td>79</td>\n",
       "      <td>4,950</td>\n",
       "      <td>1h 26min</td>\n",
       "      <td>26 April 2006 (USA)</td>\n",
       "      <td>Stanley Nelson</td>\n",
       "    </tr>\n",
       "  </tbody>\n",
       "</table>\n",
       "<p>1000 rows × 7 columns</p>\n",
       "</div>"
      ],
      "text/plain": [
       "                                               Title User Rating Metacritic  \\\n",
       "0                                 The Social Dilemma         7.8         78   \n",
       "1                                            The Vow         7.6        N/A   \n",
       "2                                                RBG         7.6         71   \n",
       "3                       Challenger: The Final Flight         8.0        N/A   \n",
       "4                                    Kiss the Ground         8.3        N/A   \n",
       "..                                               ...         ...        ...   \n",
       "995                             Terror in the Aisles         6.5        N/A   \n",
       "996    Born Into Brothels: Calcutta's Red Light Kids         7.2         78   \n",
       "997                     Who Killed the Electric Car?         7.6         70   \n",
       "998                                          Dear...         6.7        N/A   \n",
       "999  Jonestown: The Life and Death of Peoples Temple         7.8         79   \n",
       "\n",
       "    Number of Votes Running Time              Release Date           Director  \n",
       "0            29,408     1h 34min    9 September 2020 (USA)      Jeff Orlowski  \n",
       "1               770          N/A        TV Series (2020– )       Anthony Ames  \n",
       "2            11,256     1h 38min  26 July 2018 (Australia)        Julie Cohen  \n",
       "3             2,367     2h 59min     TV Mini-Series (2020)     Steven Leckart  \n",
       "4             1,485     1h 24min          April 2020 (USA)     Joshua Tickell  \n",
       "..              ...          ...                       ...                ...  \n",
       "995           1,747     1h 24min     26 October 1984 (USA)    Andrew J. Kuehn  \n",
       "996          16,012     1h 25min       11 March 2005 (USA)        Zana Briski  \n",
       "997          12,074     1h 32min       4 August 2006 (USA)        Chris Paine  \n",
       "998             174        30min        TV Series (2020– )  Rachael Iczkowski  \n",
       "999           4,950     1h 26min       26 April 2006 (USA)     Stanley Nelson  \n",
       "\n",
       "[1000 rows x 7 columns]"
      ]
     },
     "execution_count": 11,
     "metadata": {},
     "output_type": "execute_result"
    }
   ],
   "source": [
    "dictionary = dict({'Title':titles, 'User Rating':user_rating, 'Metacritic':metacritic, 'Number of Votes': num_votes, 'Running Time': running_time, 'Release Date': release_date, 'Director':director})\n",
    "df = pd.DataFrame(dictionary)\n",
    "df"
   ]
  },
  {
   "cell_type": "code",
   "execution_count": 4,
   "metadata": {},
   "outputs": [],
   "source": [
    "df = pd.read_csv('IMDB.csv')"
   ]
  },
  {
   "cell_type": "code",
   "execution_count": 5,
   "metadata": {},
   "outputs": [],
   "source": [
    "df.to_pickle(\"IMDB.pkl\")"
   ]
  },
  {
   "cell_type": "markdown",
   "metadata": {},
   "source": [
    "_________"
   ]
  },
  {
   "cell_type": "code",
   "execution_count": null,
   "metadata": {},
   "outputs": [],
   "source": [
    "''''\n",
    "source_code_1 = requests.get('https://www.imdb.com/search/title/?genres=documentary&countries=us&count=250')\n",
    "soup = BeautifulSoup(source_code_1.text, 'html5lib')\n"
   ]
  },
  {
   "cell_type": "code",
   "execution_count": null,
   "metadata": {},
   "outputs": [],
   "source": [
    "['https://www.imdb.com/search/title/?genres=documentary&countries=us&count=250&start=251&ref_=adv_nxt', 'https://www.imdb.com/search/title/?genres=documentary&countries=us&count=250&start=501&ref_=adv_nxt', 'https://www.imdb.com/search/title/?genres=documentary&countries=us&count=250&start=751&ref_=adv_nxt']"
   ]
  },
  {
   "cell_type": "code",
   "execution_count": null,
   "metadata": {},
   "outputs": [],
   "source": [
    "def get_titles(soup):\n",
    "    titles_interim =[]\n",
    "    titles = []\n",
    "    results = soup.find_all(class_='lister-item-content')\n",
    "    for i in range(len(results)):\n",
    "        title = results[i].find('a').contents\n",
    "        titles_interim.append(title)\n",
    "    for i in titles_interim:\n",
    "        titles.append(i[0])\n",
    "    return titles\n",
    "titles = get_titles(soup)\n",
    "titles\n",
    "\n",
    "    "
   ]
  },
  {
   "cell_type": "code",
   "execution_count": null,
   "metadata": {},
   "outputs": [],
   "source": [
    "def get_links(soup):\n",
    "    links = []\n",
    "    results = soup.find_all(class_='lister-item-content')\n",
    "    for i in range(len(results)):\n",
    "        link = results[i].find('a').get('href')\n",
    "        full_link = \"https://www.imdb.com\" + link + \"?ref_=adv_li_tt\"\n",
    "        links.append(full_link)\n",
    "    return links\n",
    "imdb_250 = (get_links(soup))\n",
    "print(titles)"
   ]
  },
  {
   "cell_type": "code",
   "execution_count": null,
   "metadata": {},
   "outputs": [],
   "source": [
    "user_rating = []\n",
    "metacritic = []\n",
    "num_votes = []\n",
    "running_time=[]\n",
    "release_date = []\n",
    "director = []\n",
    "\n",
    "def imdb_data(links):\n",
    "    movie_dict = {}\n",
    "    for link in links[:20]:\n",
    "        soup = BeautifulSoup(requests.get(link).text, \"html5lib\")\n",
    "        user_rating.append(soup.find(itemprop='ratingValue').text)\n",
    "        try:\n",
    "            num_votes.append(soup.find('span', class_='small', itemprop='ratingCount').text)\n",
    "        except AttributeError:\n",
    "            num_votes.append('N/A')\n",
    "        try:\n",
    "            running_time.append(soup.find('div', class_='subtext').time.text.strip())\n",
    "        except AttributeError:\n",
    "            running_time.append('N/A')\n",
    "        try:\n",
    "            release_date.append(soup.find('a', title='See more release dates').text.strip())\n",
    "        except AttributeError:\n",
    "            release_date.append('N/A')\n",
    "        try:\n",
    "            director.append(soup.find_all('div', class_='credit_summary_item')[0].a.text)\n",
    "        except AttributeError:\n",
    "            director.append('N/A')\n",
    "        try:\n",
    "            metacritic.append(soup.find(class_='metacriticScore score_favorable titleReviewBarSubItem').text.strip())\n",
    "        except AttributeError:\n",
    "            metacritic.append('N/A')\n",
    "    return user_rating, metacritic, num_votes, running_time, release_date, director\n",
    "\n",
    "print(imdb_data(imdb_250))"
   ]
  },
  {
   "cell_type": "code",
   "execution_count": null,
   "metadata": {},
   "outputs": [],
   "source": [
    "dictionary = dict({'Title':titles[:20], 'User Rating':user_rating, 'Metacritic':metacritic, 'Number of Votes': num_votes, 'Running Time': running_time, 'Release Date': release_date, 'Director':director})"
   ]
  },
  {
   "cell_type": "code",
   "execution_count": null,
   "metadata": {},
   "outputs": [],
   "source": [
    "soup_1_movie = BeautifulSoup(requests.get(imdb_250[1]).text, 'html5lib')\n",
    "soup_1_movie"
   ]
  },
  {
   "cell_type": "code",
   "execution_count": null,
   "metadata": {},
   "outputs": [],
   "source": [
    "user_rating = soup_1_movie.find(itemprop='ratingValue').text\n",
    "user_rating"
   ]
  },
  {
   "cell_type": "code",
   "execution_count": null,
   "metadata": {},
   "outputs": [],
   "source": [
    "try:\n",
    "    metacritic = soup_1_movie.find(class_='metacriticScore score_favorable titleReviewBarSubItem').text.replace(\"\\n\",\"\")\n",
    "except AttributeError:\n",
    "    metacritic = 'N/A'\n",
    "metacritic"
   ]
  },
  {
   "cell_type": "code",
   "execution_count": null,
   "metadata": {},
   "outputs": [],
   "source": [
    "vote = soup_1_movie.find('span', class_='small', itemprop='ratingCount').text\n",
    "vote"
   ]
  },
  {
   "cell_type": "code",
   "execution_count": null,
   "metadata": {},
   "outputs": [],
   "source": [
    "running_time = soup_1_movie.find('div', class_='subtext').time.text.strip()\n",
    "running_time"
   ]
  },
  {
   "cell_type": "code",
   "execution_count": null,
   "metadata": {},
   "outputs": [],
   "source": [
    "release_date = soup_1_movie.find('a', title='See more release dates').text.strip()\n",
    "release_date"
   ]
  },
  {
   "cell_type": "code",
   "execution_count": null,
   "metadata": {},
   "outputs": [],
   "source": [
    "director = soup_1_movie.find_all('div', class_='credit_summary_item')[0].a.text\n",
    "director"
   ]
  },
  {
   "cell_type": "code",
   "execution_count": null,
   "metadata": {},
   "outputs": [],
   "source": [
    "#article_title = soup.find('h1', class_='header').text.replace('\\n','')\n",
    "content = soup.find(id='main')\n",
    "movie_frame = content.find_all('div', class_="
   ]
  },
  {
   "cell_type": "code",
   "execution_count": null,
   "metadata": {},
   "outputs": [],
   "source": []
  }
 ],
 "metadata": {
  "kernelspec": {
   "display_name": "Python 3",
   "language": "python",
   "name": "python3"
  },
  "language_info": {
   "codemirror_mode": {
    "name": "ipython",
    "version": 3
   },
   "file_extension": ".py",
   "mimetype": "text/x-python",
   "name": "python",
   "nbconvert_exporter": "python",
   "pygments_lexer": "ipython3",
   "version": "3.8.3"
  }
 },
 "nbformat": 4,
 "nbformat_minor": 4
}
