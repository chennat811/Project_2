{
 "cells": [
  {
   "cell_type": "code",
   "execution_count": 5,
   "metadata": {},
   "outputs": [
    {
     "name": "stdout",
     "output_type": "stream",
     "text": [
      "Python Version: 3.8.3 (default, Jul  2 2020, 11:26:31) \n",
      "[Clang 10.0.0 ]\n"
     ]
    }
   ],
   "source": [
    "%matplotlib inline\n",
    "import sys\n",
    "import pandas as pd\n",
    "import matplotlib.pyplot as plt\n",
    "import seaborn as sns\n",
    "import numpy as np\n",
    "import math\n",
    "import datetime as datetime\n",
    "import statsmodels.api as sm\n",
    "import statsmodels.formula.api as smf \n",
    "from sklearn import preprocessing\n",
    "from sklearn.metrics import r2_score\n",
    "from sklearn.linear_model import LinearRegression\n",
    "from sklearn.model_selection import train_test_split\n",
    "from sklearn.linear_model import LinearRegression, Ridge, Lasso, LassoCV, MultiTaskLassoCV\n",
    "from sklearn.preprocessing import StandardScaler, PolynomialFeatures\n",
    "from sklearn.experimental import enable_iterative_imputer\n",
    "print(\"Python Version:\", sys.version)"
   ]
  },
  {
   "cell_type": "code",
   "execution_count": 6,
   "metadata": {},
   "outputs": [],
   "source": [
    "\"\"\"\n",
    "The standard deviation of the residuals. \n",
    "It measures how far from the regression line the data points are.\n",
    "\"\"\"\n",
    "def rmse(predictions, targets):\n",
    "    return np.sqrt(((predictions - targets) ** 2).mean())"
   ]
  },
  {
   "cell_type": "code",
   "execution_count": 7,
   "metadata": {},
   "outputs": [],
   "source": [
    "\"\"\"\n",
    "Function for the measure of absolute error\n",
    "between actual versus predicted values (paired observation).\n",
    "\"\"\"\n",
    "def mae(y_true, y_pred):\n",
    "    return np.mean(np.abs(y_pred - y_true))"
   ]
  },
  {
   "cell_type": "markdown",
   "metadata": {},
   "source": [
    "## Run a model on Linear Regression \n",
    "### No transformation of features"
   ]
  },
  {
   "cell_type": "code",
   "execution_count": 10,
   "metadata": {},
   "outputs": [],
   "source": [
    "#read file\n",
    "df= pd.read_csv('Misc Files/imdb_mojo_for_model.csv')\n",
    "df.drop(['Unnamed: 0'], inplace = True, axis = 1)"
   ]
  },
  {
   "cell_type": "code",
   "execution_count": 11,
   "metadata": {},
   "outputs": [
    {
     "data": {
      "text/plain": [
       "Index(['Rank_MOJO_by_Box_office', 'Title', 'Lifetime_Gross_MOJO',\n",
       "       'Max_Theaters', 'Opening_Box', 'Opening_Th', 'User_Rating_IMDB',\n",
       "       'Metacritic', 'Number_of_votes_IMDB', 'Release_Difference', 'CBS Films',\n",
       "       'Focus Features', 'IDP Distribution', 'IMAX', 'Lionsgate',\n",
       "       'National Geographic Entertainment', 'Neon', 'Other', 'Overture Films',\n",
       "       'Paramount Classics', 'Paramount Pictures',\n",
       "       'Sony Pictures Entertainment (SPE)', 'United Artists',\n",
       "       'Walt Disney Studios Motion Pictures', 'Warner Bros.',\n",
       "       'Warner Independent Pictures (WIP)'],\n",
       "      dtype='object')"
      ]
     },
     "execution_count": 11,
     "metadata": {},
     "output_type": "execute_result"
    }
   ],
   "source": [
    "df.columns"
   ]
  },
  {
   "cell_type": "code",
   "execution_count": 12,
   "metadata": {},
   "outputs": [],
   "source": [
    "X = df[['Rank_MOJO_by_Box_office', 'Lifetime_Gross_MOJO',\n",
    "       'Max_Theaters', 'Opening_Box', 'Opening_Th',\n",
    "       'Metacritic', 'Number_of_votes_IMDB', 'Release_Difference','CBS Films',\n",
    "              'Focus Features', 'IDP Distribution', 'IMAX', 'Lionsgate',\n",
    "              'National Geographic Entertainment', 'Neon', 'Other', 'Overture Films',\n",
    "              'Paramount Classics', 'Paramount Pictures',\n",
    "              'Sony Pictures Entertainment (SPE)', 'United Artists',\n",
    "              'Walt Disney Studios Motion Pictures', 'Warner Bros.',\n",
    "              'Warner Independent Pictures (WIP)']]\n",
    "y = df['User_Rating_IMDB']       "
   ]
  },
  {
   "cell_type": "code",
   "execution_count": 13,
   "metadata": {},
   "outputs": [],
   "source": [
    "#split into train and test set (80/20)\n",
    "X_train, X_test, y_train, y_test = train_test_split(X, y, test_size=.20, random_state=42)"
   ]
  },
  {
   "cell_type": "code",
   "execution_count": 14,
   "metadata": {},
   "outputs": [
    {
     "data": {
      "text/html": [
       "<div>\n",
       "<style scoped>\n",
       "    .dataframe tbody tr th:only-of-type {\n",
       "        vertical-align: middle;\n",
       "    }\n",
       "\n",
       "    .dataframe tbody tr th {\n",
       "        vertical-align: top;\n",
       "    }\n",
       "\n",
       "    .dataframe thead th {\n",
       "        text-align: right;\n",
       "    }\n",
       "</style>\n",
       "<table border=\"1\" class=\"dataframe\">\n",
       "  <thead>\n",
       "    <tr style=\"text-align: right;\">\n",
       "      <th></th>\n",
       "      <th>const</th>\n",
       "      <th>Rank_MOJO_by_Box_office</th>\n",
       "      <th>Title</th>\n",
       "      <th>Lifetime_Gross_MOJO</th>\n",
       "      <th>Max_Theaters</th>\n",
       "      <th>Opening_Box</th>\n",
       "      <th>Opening_Th</th>\n",
       "      <th>User_Rating_IMDB</th>\n",
       "      <th>Metacritic</th>\n",
       "      <th>Number_of_votes_IMDB</th>\n",
       "      <th>...</th>\n",
       "      <th>Neon</th>\n",
       "      <th>Other</th>\n",
       "      <th>Overture Films</th>\n",
       "      <th>Paramount Classics</th>\n",
       "      <th>Paramount Pictures</th>\n",
       "      <th>Sony Pictures Entertainment (SPE)</th>\n",
       "      <th>United Artists</th>\n",
       "      <th>Walt Disney Studios Motion Pictures</th>\n",
       "      <th>Warner Bros.</th>\n",
       "      <th>Warner Independent Pictures (WIP)</th>\n",
       "    </tr>\n",
       "  </thead>\n",
       "  <tbody>\n",
       "    <tr>\n",
       "      <th>0</th>\n",
       "      <td>1.0</td>\n",
       "      <td>1</td>\n",
       "      <td>Fahrenheit 9/11</td>\n",
       "      <td>119194771</td>\n",
       "      <td>2011.0</td>\n",
       "      <td>23920637.0</td>\n",
       "      <td>868.0</td>\n",
       "      <td>7.5</td>\n",
       "      <td>67.0</td>\n",
       "      <td>125629</td>\n",
       "      <td>...</td>\n",
       "      <td>0</td>\n",
       "      <td>0</td>\n",
       "      <td>0</td>\n",
       "      <td>0</td>\n",
       "      <td>0</td>\n",
       "      <td>0</td>\n",
       "      <td>0</td>\n",
       "      <td>0</td>\n",
       "      <td>0</td>\n",
       "      <td>0</td>\n",
       "    </tr>\n",
       "    <tr>\n",
       "      <th>1</th>\n",
       "      <td>1.0</td>\n",
       "      <td>2</td>\n",
       "      <td>March of the Penguins</td>\n",
       "      <td>77437223</td>\n",
       "      <td>2506.0</td>\n",
       "      <td>137492.0</td>\n",
       "      <td>4.0</td>\n",
       "      <td>7.5</td>\n",
       "      <td>79.0</td>\n",
       "      <td>55375</td>\n",
       "      <td>...</td>\n",
       "      <td>0</td>\n",
       "      <td>0</td>\n",
       "      <td>0</td>\n",
       "      <td>0</td>\n",
       "      <td>0</td>\n",
       "      <td>0</td>\n",
       "      <td>0</td>\n",
       "      <td>0</td>\n",
       "      <td>0</td>\n",
       "      <td>1</td>\n",
       "    </tr>\n",
       "    <tr>\n",
       "      <th>2</th>\n",
       "      <td>1.0</td>\n",
       "      <td>4</td>\n",
       "      <td>This Is It</td>\n",
       "      <td>72091016</td>\n",
       "      <td>3481.0</td>\n",
       "      <td>23234394.0</td>\n",
       "      <td>3481.0</td>\n",
       "      <td>7.2</td>\n",
       "      <td>67.0</td>\n",
       "      <td>38161</td>\n",
       "      <td>...</td>\n",
       "      <td>0</td>\n",
       "      <td>0</td>\n",
       "      <td>0</td>\n",
       "      <td>0</td>\n",
       "      <td>0</td>\n",
       "      <td>1</td>\n",
       "      <td>0</td>\n",
       "      <td>0</td>\n",
       "      <td>0</td>\n",
       "      <td>0</td>\n",
       "    </tr>\n",
       "    <tr>\n",
       "      <th>3</th>\n",
       "      <td>1.0</td>\n",
       "      <td>5</td>\n",
       "      <td>Under the Sea 3D</td>\n",
       "      <td>36262926</td>\n",
       "      <td>108.0</td>\n",
       "      <td>661185.0</td>\n",
       "      <td>49.0</td>\n",
       "      <td>7.5</td>\n",
       "      <td>77.0</td>\n",
       "      <td>1730</td>\n",
       "      <td>...</td>\n",
       "      <td>0</td>\n",
       "      <td>0</td>\n",
       "      <td>0</td>\n",
       "      <td>0</td>\n",
       "      <td>0</td>\n",
       "      <td>0</td>\n",
       "      <td>0</td>\n",
       "      <td>0</td>\n",
       "      <td>1</td>\n",
       "      <td>0</td>\n",
       "    </tr>\n",
       "    <tr>\n",
       "      <th>4</th>\n",
       "      <td>1.0</td>\n",
       "      <td>7</td>\n",
       "      <td>Earth</td>\n",
       "      <td>32011576</td>\n",
       "      <td>1804.0</td>\n",
       "      <td>8825760.0</td>\n",
       "      <td>1804.0</td>\n",
       "      <td>8.0</td>\n",
       "      <td>72.0</td>\n",
       "      <td>14137</td>\n",
       "      <td>...</td>\n",
       "      <td>0</td>\n",
       "      <td>0</td>\n",
       "      <td>0</td>\n",
       "      <td>0</td>\n",
       "      <td>0</td>\n",
       "      <td>0</td>\n",
       "      <td>0</td>\n",
       "      <td>1</td>\n",
       "      <td>0</td>\n",
       "      <td>0</td>\n",
       "    </tr>\n",
       "    <tr>\n",
       "      <th>...</th>\n",
       "      <td>...</td>\n",
       "      <td>...</td>\n",
       "      <td>...</td>\n",
       "      <td>...</td>\n",
       "      <td>...</td>\n",
       "      <td>...</td>\n",
       "      <td>...</td>\n",
       "      <td>...</td>\n",
       "      <td>...</td>\n",
       "      <td>...</td>\n",
       "      <td>...</td>\n",
       "      <td>...</td>\n",
       "      <td>...</td>\n",
       "      <td>...</td>\n",
       "      <td>...</td>\n",
       "      <td>...</td>\n",
       "      <td>...</td>\n",
       "      <td>...</td>\n",
       "      <td>...</td>\n",
       "      <td>...</td>\n",
       "      <td>...</td>\n",
       "    </tr>\n",
       "    <tr>\n",
       "      <th>519</th>\n",
       "      <td>1.0</td>\n",
       "      <td>1972</td>\n",
       "      <td>Knuckle</td>\n",
       "      <td>2647</td>\n",
       "      <td>3.0</td>\n",
       "      <td>2647.0</td>\n",
       "      <td>3.0</td>\n",
       "      <td>6.8</td>\n",
       "      <td>65.0</td>\n",
       "      <td>2693</td>\n",
       "      <td>...</td>\n",
       "      <td>0</td>\n",
       "      <td>1</td>\n",
       "      <td>0</td>\n",
       "      <td>0</td>\n",
       "      <td>0</td>\n",
       "      <td>0</td>\n",
       "      <td>0</td>\n",
       "      <td>0</td>\n",
       "      <td>0</td>\n",
       "      <td>0</td>\n",
       "    </tr>\n",
       "    <tr>\n",
       "      <th>520</th>\n",
       "      <td>1.0</td>\n",
       "      <td>1986</td>\n",
       "      <td>You're Gonna Miss Me</td>\n",
       "      <td>2324</td>\n",
       "      <td>1.0</td>\n",
       "      <td>1340.0</td>\n",
       "      <td>1.0</td>\n",
       "      <td>7.6</td>\n",
       "      <td>64.0</td>\n",
       "      <td>988</td>\n",
       "      <td>...</td>\n",
       "      <td>0</td>\n",
       "      <td>1</td>\n",
       "      <td>0</td>\n",
       "      <td>0</td>\n",
       "      <td>0</td>\n",
       "      <td>0</td>\n",
       "      <td>0</td>\n",
       "      <td>0</td>\n",
       "      <td>0</td>\n",
       "      <td>0</td>\n",
       "    </tr>\n",
       "    <tr>\n",
       "      <th>521</th>\n",
       "      <td>1.0</td>\n",
       "      <td>1991</td>\n",
       "      <td>Workingman's Death</td>\n",
       "      <td>2214</td>\n",
       "      <td>2.0</td>\n",
       "      <td>2214.0</td>\n",
       "      <td>2.0</td>\n",
       "      <td>8.0</td>\n",
       "      <td>67.0</td>\n",
       "      <td>1647</td>\n",
       "      <td>...</td>\n",
       "      <td>0</td>\n",
       "      <td>1</td>\n",
       "      <td>0</td>\n",
       "      <td>0</td>\n",
       "      <td>0</td>\n",
       "      <td>0</td>\n",
       "      <td>0</td>\n",
       "      <td>0</td>\n",
       "      <td>0</td>\n",
       "      <td>0</td>\n",
       "    </tr>\n",
       "    <tr>\n",
       "      <th>522</th>\n",
       "      <td>1.0</td>\n",
       "      <td>1998</td>\n",
       "      <td>Accidental Courtesy: Daryl Davis, Race &amp; America</td>\n",
       "      <td>1940</td>\n",
       "      <td>1.0</td>\n",
       "      <td>1452.0</td>\n",
       "      <td>1.0</td>\n",
       "      <td>7.7</td>\n",
       "      <td>63.0</td>\n",
       "      <td>1019</td>\n",
       "      <td>...</td>\n",
       "      <td>0</td>\n",
       "      <td>1</td>\n",
       "      <td>0</td>\n",
       "      <td>0</td>\n",
       "      <td>0</td>\n",
       "      <td>0</td>\n",
       "      <td>0</td>\n",
       "      <td>0</td>\n",
       "      <td>0</td>\n",
       "      <td>0</td>\n",
       "    </tr>\n",
       "    <tr>\n",
       "      <th>523</th>\n",
       "      <td>1.0</td>\n",
       "      <td>2027</td>\n",
       "      <td>Jason Becker: Not Dead Yet</td>\n",
       "      <td>1294</td>\n",
       "      <td>2.0</td>\n",
       "      <td>319.0</td>\n",
       "      <td>2.0</td>\n",
       "      <td>8.1</td>\n",
       "      <td>70.0</td>\n",
       "      <td>1138</td>\n",
       "      <td>...</td>\n",
       "      <td>0</td>\n",
       "      <td>1</td>\n",
       "      <td>0</td>\n",
       "      <td>0</td>\n",
       "      <td>0</td>\n",
       "      <td>0</td>\n",
       "      <td>0</td>\n",
       "      <td>0</td>\n",
       "      <td>0</td>\n",
       "      <td>0</td>\n",
       "    </tr>\n",
       "  </tbody>\n",
       "</table>\n",
       "<p>524 rows × 27 columns</p>\n",
       "</div>"
      ],
      "text/plain": [
       "     const  Rank_MOJO_by_Box_office  \\\n",
       "0      1.0                        1   \n",
       "1      1.0                        2   \n",
       "2      1.0                        4   \n",
       "3      1.0                        5   \n",
       "4      1.0                        7   \n",
       "..     ...                      ...   \n",
       "519    1.0                     1972   \n",
       "520    1.0                     1986   \n",
       "521    1.0                     1991   \n",
       "522    1.0                     1998   \n",
       "523    1.0                     2027   \n",
       "\n",
       "                                                Title  Lifetime_Gross_MOJO  \\\n",
       "0                                     Fahrenheit 9/11            119194771   \n",
       "1                               March of the Penguins             77437223   \n",
       "2                                          This Is It             72091016   \n",
       "3                                    Under the Sea 3D             36262926   \n",
       "4                                               Earth             32011576   \n",
       "..                                                ...                  ...   \n",
       "519                                           Knuckle                 2647   \n",
       "520                              You're Gonna Miss Me                 2324   \n",
       "521                                Workingman's Death                 2214   \n",
       "522  Accidental Courtesy: Daryl Davis, Race & America                 1940   \n",
       "523                        Jason Becker: Not Dead Yet                 1294   \n",
       "\n",
       "     Max_Theaters  Opening_Box  Opening_Th  User_Rating_IMDB  Metacritic  \\\n",
       "0          2011.0   23920637.0       868.0               7.5        67.0   \n",
       "1          2506.0     137492.0         4.0               7.5        79.0   \n",
       "2          3481.0   23234394.0      3481.0               7.2        67.0   \n",
       "3           108.0     661185.0        49.0               7.5        77.0   \n",
       "4          1804.0    8825760.0      1804.0               8.0        72.0   \n",
       "..            ...          ...         ...               ...         ...   \n",
       "519           3.0       2647.0         3.0               6.8        65.0   \n",
       "520           1.0       1340.0         1.0               7.6        64.0   \n",
       "521           2.0       2214.0         2.0               8.0        67.0   \n",
       "522           1.0       1452.0         1.0               7.7        63.0   \n",
       "523           2.0        319.0         2.0               8.1        70.0   \n",
       "\n",
       "     Number_of_votes_IMDB  ...  Neon  Other  Overture Films  \\\n",
       "0                  125629  ...     0      0               0   \n",
       "1                   55375  ...     0      0               0   \n",
       "2                   38161  ...     0      0               0   \n",
       "3                    1730  ...     0      0               0   \n",
       "4                   14137  ...     0      0               0   \n",
       "..                    ...  ...   ...    ...             ...   \n",
       "519                  2693  ...     0      1               0   \n",
       "520                   988  ...     0      1               0   \n",
       "521                  1647  ...     0      1               0   \n",
       "522                  1019  ...     0      1               0   \n",
       "523                  1138  ...     0      1               0   \n",
       "\n",
       "     Paramount Classics  Paramount Pictures  \\\n",
       "0                     0                   0   \n",
       "1                     0                   0   \n",
       "2                     0                   0   \n",
       "3                     0                   0   \n",
       "4                     0                   0   \n",
       "..                  ...                 ...   \n",
       "519                   0                   0   \n",
       "520                   0                   0   \n",
       "521                   0                   0   \n",
       "522                   0                   0   \n",
       "523                   0                   0   \n",
       "\n",
       "     Sony Pictures Entertainment (SPE)  United Artists  \\\n",
       "0                                    0               0   \n",
       "1                                    0               0   \n",
       "2                                    1               0   \n",
       "3                                    0               0   \n",
       "4                                    0               0   \n",
       "..                                 ...             ...   \n",
       "519                                  0               0   \n",
       "520                                  0               0   \n",
       "521                                  0               0   \n",
       "522                                  0               0   \n",
       "523                                  0               0   \n",
       "\n",
       "     Walt Disney Studios Motion Pictures  Warner Bros.  \\\n",
       "0                                      0             0   \n",
       "1                                      0             0   \n",
       "2                                      0             0   \n",
       "3                                      0             1   \n",
       "4                                      1             0   \n",
       "..                                   ...           ...   \n",
       "519                                    0             0   \n",
       "520                                    0             0   \n",
       "521                                    0             0   \n",
       "522                                    0             0   \n",
       "523                                    0             0   \n",
       "\n",
       "     Warner Independent Pictures (WIP)  \n",
       "0                                    0  \n",
       "1                                    1  \n",
       "2                                    0  \n",
       "3                                    0  \n",
       "4                                    0  \n",
       "..                                 ...  \n",
       "519                                  0  \n",
       "520                                  0  \n",
       "521                                  0  \n",
       "522                                  0  \n",
       "523                                  0  \n",
       "\n",
       "[524 rows x 27 columns]"
      ]
     },
     "execution_count": 14,
     "metadata": {},
     "output_type": "execute_result"
    }
   ],
   "source": [
    "sm.tools.tools.add_constant(df)"
   ]
  },
  {
   "cell_type": "code",
   "execution_count": 17,
   "metadata": {},
   "outputs": [
    {
     "data": {
      "text/html": [
       "<table class=\"simpletable\">\n",
       "<caption>OLS Regression Results</caption>\n",
       "<tr>\n",
       "  <th>Dep. Variable:</th>    <td>User_Rating_IMDB</td> <th>  R-squared:         </th> <td>   0.313</td>\n",
       "</tr>\n",
       "<tr>\n",
       "  <th>Model:</th>                   <td>OLS</td>       <th>  Adj. R-squared:    </th> <td>   0.280</td>\n",
       "</tr>\n",
       "<tr>\n",
       "  <th>Method:</th>             <td>Least Squares</td>  <th>  F-statistic:       </th> <td>   9.551</td>\n",
       "</tr>\n",
       "<tr>\n",
       "  <th>Date:</th>             <td>Mon, 12 Oct 2020</td> <th>  Prob (F-statistic):</th> <td>6.76e-23</td>\n",
       "</tr>\n",
       "<tr>\n",
       "  <th>Time:</th>                 <td>18:51:35</td>     <th>  Log-Likelihood:    </th> <td> -219.40</td>\n",
       "</tr>\n",
       "<tr>\n",
       "  <th>No. Observations:</th>      <td>   419</td>      <th>  AIC:               </th> <td>   478.8</td>\n",
       "</tr>\n",
       "<tr>\n",
       "  <th>Df Residuals:</th>          <td>   399</td>      <th>  BIC:               </th> <td>   559.6</td>\n",
       "</tr>\n",
       "<tr>\n",
       "  <th>Df Model:</th>              <td>    19</td>      <th>                     </th>     <td> </td>   \n",
       "</tr>\n",
       "<tr>\n",
       "  <th>Covariance Type:</th>      <td>nonrobust</td>    <th>                     </th>     <td> </td>   \n",
       "</tr>\n",
       "</table>\n",
       "<table class=\"simpletable\">\n",
       "<tr>\n",
       "                   <td></td>                      <th>coef</th>     <th>std err</th>      <th>t</th>      <th>P>|t|</th>  <th>[0.025</th>    <th>0.975]</th>  \n",
       "</tr>\n",
       "<tr>\n",
       "  <th>Rank_MOJO_by_Box_office</th>             <td> -2.27e-05</td> <td> 5.35e-05</td> <td>   -0.424</td> <td> 0.672</td> <td>   -0.000</td> <td> 8.25e-05</td>\n",
       "</tr>\n",
       "<tr>\n",
       "  <th>Lifetime_Gross_MOJO</th>                 <td> 3.496e-09</td> <td> 1.11e-08</td> <td>    0.315</td> <td> 0.753</td> <td>-1.83e-08</td> <td> 2.53e-08</td>\n",
       "</tr>\n",
       "<tr>\n",
       "  <th>Max_Theaters</th>                        <td>   -0.0001</td> <td>    0.000</td> <td>   -0.339</td> <td> 0.735</td> <td>   -0.001</td> <td>    0.001</td>\n",
       "</tr>\n",
       "<tr>\n",
       "  <th>Opening_Box</th>                         <td> 1.182e-07</td> <td> 8.24e-08</td> <td>    1.434</td> <td> 0.152</td> <td>-4.38e-08</td> <td>  2.8e-07</td>\n",
       "</tr>\n",
       "<tr>\n",
       "  <th>Opening_Th</th>                          <td>   -0.0002</td> <td>    0.000</td> <td>   -0.541</td> <td> 0.588</td> <td>   -0.001</td> <td>    0.001</td>\n",
       "</tr>\n",
       "<tr>\n",
       "  <th>Metacritic</th>                          <td>    0.0260</td> <td>    0.003</td> <td>    9.067</td> <td> 0.000</td> <td>    0.020</td> <td>    0.032</td>\n",
       "</tr>\n",
       "<tr>\n",
       "  <th>Number_of_votes_IMDB</th>                <td> 8.038e-06</td> <td> 2.34e-06</td> <td>    3.439</td> <td> 0.001</td> <td> 3.44e-06</td> <td> 1.26e-05</td>\n",
       "</tr>\n",
       "<tr>\n",
       "  <th>Release_Difference</th>                  <td>-4.313e-05</td> <td> 1.04e-05</td> <td>   -4.128</td> <td> 0.000</td> <td>-6.37e-05</td> <td>-2.26e-05</td>\n",
       "</tr>\n",
       "<tr>\n",
       "  <th>CBS Films</th>                           <td> 4.659e-15</td> <td> 2.59e-16</td> <td>   17.978</td> <td> 0.000</td> <td> 4.15e-15</td> <td> 5.17e-15</td>\n",
       "</tr>\n",
       "<tr>\n",
       "  <th>Focus Features</th>                      <td>    5.8004</td> <td>    0.358</td> <td>   16.193</td> <td> 0.000</td> <td>    5.096</td> <td>    6.505</td>\n",
       "</tr>\n",
       "<tr>\n",
       "  <th>IDP Distribution</th>                    <td> 6.317e-15</td> <td> 4.83e-16</td> <td>   13.083</td> <td> 0.000</td> <td> 5.37e-15</td> <td> 7.27e-15</td>\n",
       "</tr>\n",
       "<tr>\n",
       "  <th>IMAX</th>                                <td>    5.9636</td> <td>    0.517</td> <td>   11.526</td> <td> 0.000</td> <td>    4.946</td> <td>    6.981</td>\n",
       "</tr>\n",
       "<tr>\n",
       "  <th>Lionsgate</th>                           <td>    5.7666</td> <td>    0.287</td> <td>   20.108</td> <td> 0.000</td> <td>    5.203</td> <td>    6.330</td>\n",
       "</tr>\n",
       "<tr>\n",
       "  <th>National Geographic Entertainment</th>   <td>    6.1606</td> <td>    0.358</td> <td>   17.194</td> <td> 0.000</td> <td>    5.456</td> <td>    6.865</td>\n",
       "</tr>\n",
       "<tr>\n",
       "  <th>Neon</th>                                <td>    6.1648</td> <td>    0.357</td> <td>   17.247</td> <td> 0.000</td> <td>    5.462</td> <td>    6.868</td>\n",
       "</tr>\n",
       "<tr>\n",
       "  <th>Other</th>                               <td>    5.8915</td> <td>    0.252</td> <td>   23.346</td> <td> 0.000</td> <td>    5.395</td> <td>    6.388</td>\n",
       "</tr>\n",
       "<tr>\n",
       "  <th>Overture Films</th>                      <td> 3.546e-16</td> <td> 4.21e-17</td> <td>    8.431</td> <td> 0.000</td> <td> 2.72e-16</td> <td> 4.37e-16</td>\n",
       "</tr>\n",
       "<tr>\n",
       "  <th>Paramount Classics</th>                  <td>    5.5194</td> <td>    0.337</td> <td>   16.376</td> <td> 0.000</td> <td>    4.857</td> <td>    6.182</td>\n",
       "</tr>\n",
       "<tr>\n",
       "  <th>Paramount Pictures</th>                  <td>    5.6837</td> <td>    0.412</td> <td>   13.790</td> <td> 0.000</td> <td>    4.873</td> <td>    6.494</td>\n",
       "</tr>\n",
       "<tr>\n",
       "  <th>Sony Pictures Entertainment (SPE)</th>   <td> 1.105e-16</td> <td> 4.07e-17</td> <td>    2.717</td> <td> 0.007</td> <td> 3.06e-17</td> <td>  1.9e-16</td>\n",
       "</tr>\n",
       "<tr>\n",
       "  <th>United Artists</th>                      <td>    5.4695</td> <td>    0.473</td> <td>   11.560</td> <td> 0.000</td> <td>    4.539</td> <td>    6.400</td>\n",
       "</tr>\n",
       "<tr>\n",
       "  <th>Walt Disney Studios Motion Pictures</th> <td>    6.0941</td> <td>    0.389</td> <td>   15.657</td> <td> 0.000</td> <td>    5.329</td> <td>    6.859</td>\n",
       "</tr>\n",
       "<tr>\n",
       "  <th>Warner Bros.</th>                        <td>    5.8555</td> <td>    0.322</td> <td>   18.170</td> <td> 0.000</td> <td>    5.222</td> <td>    6.489</td>\n",
       "</tr>\n",
       "<tr>\n",
       "  <th>Warner Independent Pictures (WIP)</th>   <td>    5.4079</td> <td>    0.971</td> <td>    5.570</td> <td> 0.000</td> <td>    3.499</td> <td>    7.317</td>\n",
       "</tr>\n",
       "</table>\n",
       "<table class=\"simpletable\">\n",
       "<tr>\n",
       "  <th>Omnibus:</th>       <td>27.897</td> <th>  Durbin-Watson:     </th> <td>   1.958</td>\n",
       "</tr>\n",
       "<tr>\n",
       "  <th>Prob(Omnibus):</th> <td> 0.000</td> <th>  Jarque-Bera (JB):  </th> <td>  40.277</td>\n",
       "</tr>\n",
       "<tr>\n",
       "  <th>Skew:</th>          <td>-0.499</td> <th>  Prob(JB):          </th> <td>1.79e-09</td>\n",
       "</tr>\n",
       "<tr>\n",
       "  <th>Kurtosis:</th>      <td> 4.145</td> <th>  Cond. No.          </th> <td>3.46e+26</td>\n",
       "</tr>\n",
       "</table><br/><br/>Warnings:<br/>[1] Standard Errors assume that the covariance matrix of the errors is correctly specified.<br/>[2] The smallest eigenvalue is 1.04e-37. This might indicate that there are<br/>strong multicollinearity problems or that the design matrix is singular."
      ],
      "text/plain": [
       "<class 'statsmodels.iolib.summary.Summary'>\n",
       "\"\"\"\n",
       "                            OLS Regression Results                            \n",
       "==============================================================================\n",
       "Dep. Variable:       User_Rating_IMDB   R-squared:                       0.313\n",
       "Model:                            OLS   Adj. R-squared:                  0.280\n",
       "Method:                 Least Squares   F-statistic:                     9.551\n",
       "Date:                Mon, 12 Oct 2020   Prob (F-statistic):           6.76e-23\n",
       "Time:                        18:51:35   Log-Likelihood:                -219.40\n",
       "No. Observations:                 419   AIC:                             478.8\n",
       "Df Residuals:                     399   BIC:                             559.6\n",
       "Df Model:                          19                                         \n",
       "Covariance Type:            nonrobust                                         \n",
       "=======================================================================================================\n",
       "                                          coef    std err          t      P>|t|      [0.025      0.975]\n",
       "-------------------------------------------------------------------------------------------------------\n",
       "Rank_MOJO_by_Box_office              -2.27e-05   5.35e-05     -0.424      0.672      -0.000    8.25e-05\n",
       "Lifetime_Gross_MOJO                  3.496e-09   1.11e-08      0.315      0.753   -1.83e-08    2.53e-08\n",
       "Max_Theaters                           -0.0001      0.000     -0.339      0.735      -0.001       0.001\n",
       "Opening_Box                          1.182e-07   8.24e-08      1.434      0.152   -4.38e-08     2.8e-07\n",
       "Opening_Th                             -0.0002      0.000     -0.541      0.588      -0.001       0.001\n",
       "Metacritic                              0.0260      0.003      9.067      0.000       0.020       0.032\n",
       "Number_of_votes_IMDB                 8.038e-06   2.34e-06      3.439      0.001    3.44e-06    1.26e-05\n",
       "Release_Difference                  -4.313e-05   1.04e-05     -4.128      0.000   -6.37e-05   -2.26e-05\n",
       "CBS Films                            4.659e-15   2.59e-16     17.978      0.000    4.15e-15    5.17e-15\n",
       "Focus Features                          5.8004      0.358     16.193      0.000       5.096       6.505\n",
       "IDP Distribution                     6.317e-15   4.83e-16     13.083      0.000    5.37e-15    7.27e-15\n",
       "IMAX                                    5.9636      0.517     11.526      0.000       4.946       6.981\n",
       "Lionsgate                               5.7666      0.287     20.108      0.000       5.203       6.330\n",
       "National Geographic Entertainment       6.1606      0.358     17.194      0.000       5.456       6.865\n",
       "Neon                                    6.1648      0.357     17.247      0.000       5.462       6.868\n",
       "Other                                   5.8915      0.252     23.346      0.000       5.395       6.388\n",
       "Overture Films                       3.546e-16   4.21e-17      8.431      0.000    2.72e-16    4.37e-16\n",
       "Paramount Classics                      5.5194      0.337     16.376      0.000       4.857       6.182\n",
       "Paramount Pictures                      5.6837      0.412     13.790      0.000       4.873       6.494\n",
       "Sony Pictures Entertainment (SPE)    1.105e-16   4.07e-17      2.717      0.007    3.06e-17     1.9e-16\n",
       "United Artists                          5.4695      0.473     11.560      0.000       4.539       6.400\n",
       "Walt Disney Studios Motion Pictures     6.0941      0.389     15.657      0.000       5.329       6.859\n",
       "Warner Bros.                            5.8555      0.322     18.170      0.000       5.222       6.489\n",
       "Warner Independent Pictures (WIP)       5.4079      0.971      5.570      0.000       3.499       7.317\n",
       "==============================================================================\n",
       "Omnibus:                       27.897   Durbin-Watson:                   1.958\n",
       "Prob(Omnibus):                  0.000   Jarque-Bera (JB):               40.277\n",
       "Skew:                          -0.499   Prob(JB):                     1.79e-09\n",
       "Kurtosis:                       4.145   Cond. No.                     3.46e+26\n",
       "==============================================================================\n",
       "\n",
       "Warnings:\n",
       "[1] Standard Errors assume that the covariance matrix of the errors is correctly specified.\n",
       "[2] The smallest eigenvalue is 1.04e-37. This might indicate that there are\n",
       "strong multicollinearity problems or that the design matrix is singular.\n",
       "\"\"\""
      ]
     },
     "execution_count": 17,
     "metadata": {},
     "output_type": "execute_result"
    }
   ],
   "source": [
    "#Look at statsmodel summary table\n",
    "baseline_model = sm.OLS(y_train,X_train)\n",
    "baseline_fit = baseline_model.fit()\n",
    "baseline_fit.summary()"
   ]
  },
  {
   "cell_type": "code",
   "execution_count": 18,
   "metadata": {},
   "outputs": [],
   "source": [
    "#Scale features with standard scaler\n",
    "s = StandardScaler()\n",
    "X_tr_scaled = s.fit_transform(X_train)\n",
    "X_te_scaled = s.fit_transform(X_test)"
   ]
  },
  {
   "cell_type": "code",
   "execution_count": 19,
   "metadata": {},
   "outputs": [
    {
     "data": {
      "text/plain": [
       "0.31261705076935753"
      ]
     },
     "execution_count": 19,
     "metadata": {},
     "output_type": "execute_result"
    }
   ],
   "source": [
    "#R2 score for training dataset\n",
    "bl_lr = LinearRegression()\n",
    "bl_lr.fit(X_tr_scaled, y_train)\n",
    "bl_lr.score(X_tr_scaled, y_train)"
   ]
  },
  {
   "cell_type": "code",
   "execution_count": 25,
   "metadata": {},
   "outputs": [],
   "source": [
    "#Make a prediction\n",
    "bl_predict = bl_lr.predict(X_te_scaled)"
   ]
  },
  {
   "cell_type": "code",
   "execution_count": 21,
   "metadata": {},
   "outputs": [
    {
     "data": {
      "text/plain": [
       "<matplotlib.legend.Legend at 0x129595970>"
      ]
     },
     "execution_count": 21,
     "metadata": {},
     "output_type": "execute_result"
    },
    {
     "data": {
      "image/png": "[encoded data removed]",
      "text/plain": [
       "<Figure size 720x720 with 1 Axes>"
      ]
     },
     "metadata": {
      "needs_background": "light"
     },
     "output_type": "display_data"
    }
   ],
   "source": [
    "#Plot User IMDB scores vs predicted User IMDB scores\n",
    "plt.figure(figsize = (10,10))\n",
    "plt.scatter(y_test, bl_predict,  alpha = 0.2)\n",
    "plt.plot(y_test, y_test, 'm--', label = 'Ideal Prediction', c = 'g')\n",
    "plt.title('User IMDB scores vs. Predicted Scores', fontsize = 20)\n",
    "plt.ylabel('Predicted User IMDB Score', fontsize = 18)\n",
    "plt.xlabel('User IMDB score', fontsize = 18)\n",
    "plt.legend()"
   ]
  },
  {
   "cell_type": "code",
   "execution_count": 22,
   "metadata": {},
   "outputs": [],
   "source": [
    "bl_residuals = abs(bl_predict - y_test)"
   ]
  },
  {
   "cell_type": "code",
   "execution_count": 23,
   "metadata": {},
   "outputs": [
    {
     "data": {
      "image/png": "[encoded data removed]",
      "text/plain": [
       "<Figure size 432x288 with 1 Axes>"
      ]
     },
     "metadata": {
      "needs_background": "light"
     },
     "output_type": "display_data"
    }
   ],
   "source": [
    "plt.scatter(bl_residuals, bl_predict)\n",
    "plt.title('Residuals for Predicted User IMDB Scores', fontsize = 14)\n",
    "plt.xlabel('Residuals', fontsize = 12)\n",
    "plt.ylabel('Predicted User IMDB score', fontsize = 12)\n",
    "plt.show()"
   ]
  },
  {
   "cell_type": "code",
   "execution_count": 30,
   "metadata": {},
   "outputs": [],
   "source": [
    "bl_residuals_2 = (bl_predict - y_test)"
   ]
  },
  {
   "cell_type": "code",
   "execution_count": 32,
   "metadata": {},
   "outputs": [
    {
     "data": {
      "image/png": "[encoded data removed]",
      "text/plain": [
       "<Figure size 432x288 with 1 Axes>"
      ]
     },
     "metadata": {
      "needs_background": "light"
     },
     "output_type": "display_data"
    }
   ],
   "source": [
    "plt.scatter(bl_predict, bl_residuals_2)\n",
    "plt.title('Residuals for Predicted User IMDB Scores', fontsize = 14)\n",
    "plt.ylabel('Residuals', fontsize = 12)\n",
    "plt.xlabel('Predicted User IMDB score', fontsize = 12)\n",
    "plt.show()"
   ]
  },
  {
   "cell_type": "code",
   "execution_count": 272,
   "metadata": {},
   "outputs": [
    {
     "data": {
      "text/plain": [
       "0.3615917396030196"
      ]
     },
     "execution_count": 272,
     "metadata": {},
     "output_type": "execute_result"
    }
   ],
   "source": [
    "bl_residuals.mean()"
   ]
  },
  {
   "cell_type": "code",
   "execution_count": 273,
   "metadata": {},
   "outputs": [
    {
     "data": {
      "text/plain": [
       "0.48075134762983607"
      ]
     },
     "execution_count": 273,
     "metadata": {},
     "output_type": "execute_result"
    }
   ],
   "source": [
    "rmse(bl_predict, y_test)"
   ]
  },
  {
   "cell_type": "code",
   "execution_count": 274,
   "metadata": {},
   "outputs": [
    {
     "data": {
      "text/plain": [
       "0.3615917396030196"
      ]
     },
     "execution_count": 274,
     "metadata": {},
     "output_type": "execute_result"
    }
   ],
   "source": [
    "mae(y_test, bl_predict)"
   ]
  },
  {
   "cell_type": "code",
   "execution_count": 275,
   "metadata": {},
   "outputs": [
    {
     "data": {
      "text/plain": [
       "287    2.074099\n",
       "73     1.248201\n",
       "280    1.189687\n",
       "425    1.066317\n",
       "438    0.900624\n",
       "117    0.899028\n",
       "523    0.888765\n",
       "209    0.847167\n",
       "132    0.826335\n",
       "410    0.806578\n",
       "Name: User_Rating_IMDB, dtype: float64"
      ]
     },
     "execution_count": 275,
     "metadata": {},
     "output_type": "execute_result"
    }
   ],
   "source": [
    "bl_residuals.sort_values(ascending=False).head(10)"
   ]
  },
  {
   "cell_type": "code",
   "execution_count": 266,
   "metadata": {},
   "outputs": [],
   "source": [
    "bl_predict.sort()"
   ]
  },
  {
   "cell_type": "code",
   "execution_count": null,
   "metadata": {},
   "outputs": [],
   "source": [
    "#Find the titles with the largest residuals, difference between predicted and actual, by referencing it to its index."
   ]
  },
  {
   "cell_type": "markdown",
   "metadata": {},
   "source": [
    "## Log transformation of select features"
   ]
  },
  {
   "cell_type": "code",
   "execution_count": 34,
   "metadata": {},
   "outputs": [],
   "source": [
    "#Log transform select features\n",
    "df['log_Lifetime_Gross_MOJO'] = np.log(df['Lifetime_Gross_MOJO'])\n",
    "df['log_Max_Theaters'] = np.log(df['Max_Theaters'])\n",
    "df['log_Opening_Box'] = np.log(df['Opening_Box'])\n",
    "df['log_Opening_Th'] = np.log(df['Opening_Th'])\n",
    "df['log_User_Rating_IMDB']= np.log(df['User_Rating_IMDB'])\n",
    "df['log_Number_of_votes_IMDB']= np.log(df['Number_of_votes_IMDB'])"
   ]
  },
  {
   "cell_type": "code",
   "execution_count": 35,
   "metadata": {},
   "outputs": [],
   "source": [
    "log_df = df.loc[:,['Metacritic', 'Lifetime_Gross_MOJO', 'Max_Theaters', 'Opening_Box',\n",
    "                   'Opening_Th', 'User_Rating_IMDB','Number_of_votes_IMDB', 'Title','CBS Films',\n",
    "                   'Focus Features', 'IDP Distribution', 'IMAX', 'Lionsgate',\n",
    "                   'National Geographic Entertainment', 'Neon', 'Other', 'Overture Films',\n",
    "                   'Paramount Classics', 'Paramount Pictures',\n",
    "                   'Sony Pictures Entertainment (SPE)', 'United Artists',\n",
    "                   'Walt Disney Studios Motion Pictures', 'Warner Bros.',\n",
    "                   'Warner Independent Pictures (WIP)','log_Lifetime_Gross_MOJO','log_Max_Theaters',\n",
    "                   'log_Opening_Box', 'log_Opening_Th',\n",
    "                   'log_User_Rating_IMDB', 'log_Number_of_votes_IMDB']]\n"
   ]
  },
  {
   "cell_type": "code",
   "execution_count": 36,
   "metadata": {},
   "outputs": [],
   "source": [
    "X_log = df[[ 'Lifetime_Gross_MOJO','Max_Theaters',\n",
    "              'Opening_Box', 'Opening_Th', 'Metacritic',\n",
    "              'Number_of_votes_IMDB', 'Release_Difference', 'CBS Films',\n",
    "              'Focus Features', 'IDP Distribution', 'IMAX', 'Lionsgate',\n",
    "              'National Geographic Entertainment', 'Neon', 'Other', 'Overture Films',\n",
    "              'Paramount Classics', 'Paramount Pictures',\n",
    "              'Sony Pictures Entertainment (SPE)', 'United Artists',\n",
    "              'Walt Disney Studios Motion Pictures', 'Warner Bros.',\n",
    "              'Warner Independent Pictures (WIP)', 'log_Lifetime_Gross_MOJO',\n",
    "            'log_Max_Theaters','log_Opening_Box', 'log_Opening_Th',\n",
    "            'log_Number_of_votes_IMDB']]\n",
    "\n",
    "y_log = df['User_Rating_IMDB']\n"
   ]
  },
  {
   "cell_type": "code",
   "execution_count": 37,
   "metadata": {},
   "outputs": [],
   "source": [
    "#Split into training and test dataset (80/20)\n",
    "Xl_train, Xl_test, yl_train, yl_test = train_test_split(X_log, y_log, test_size=.20, random_state=42)"
   ]
  },
  {
   "cell_type": "code",
   "execution_count": 38,
   "metadata": {},
   "outputs": [
    {
     "data": {
      "text/html": [
       "<table class=\"simpletable\">\n",
       "<caption>OLS Regression Results</caption>\n",
       "<tr>\n",
       "  <th>Dep. Variable:</th>    <td>User_Rating_IMDB</td> <th>  R-squared:         </th> <td>   0.334</td>\n",
       "</tr>\n",
       "<tr>\n",
       "  <th>Model:</th>                   <td>OLS</td>       <th>  Adj. R-squared:    </th> <td>   0.296</td>\n",
       "</tr>\n",
       "<tr>\n",
       "  <th>Method:</th>             <td>Least Squares</td>  <th>  F-statistic:       </th> <td>   8.626</td>\n",
       "</tr>\n",
       "<tr>\n",
       "  <th>Date:</th>             <td>Mon, 12 Oct 2020</td> <th>  Prob (F-statistic):</th> <td>2.01e-23</td>\n",
       "</tr>\n",
       "<tr>\n",
       "  <th>Time:</th>                 <td>18:58:37</td>     <th>  Log-Likelihood:    </th> <td> -212.68</td>\n",
       "</tr>\n",
       "<tr>\n",
       "  <th>No. Observations:</th>      <td>   419</td>      <th>  AIC:               </th> <td>   473.4</td>\n",
       "</tr>\n",
       "<tr>\n",
       "  <th>Df Residuals:</th>          <td>   395</td>      <th>  BIC:               </th> <td>   570.3</td>\n",
       "</tr>\n",
       "<tr>\n",
       "  <th>Df Model:</th>              <td>    23</td>      <th>                     </th>     <td> </td>   \n",
       "</tr>\n",
       "<tr>\n",
       "  <th>Covariance Type:</th>      <td>nonrobust</td>    <th>                     </th>     <td> </td>   \n",
       "</tr>\n",
       "</table>\n",
       "<table class=\"simpletable\">\n",
       "<tr>\n",
       "                   <td></td>                      <th>coef</th>     <th>std err</th>      <th>t</th>      <th>P>|t|</th>  <th>[0.025</th>    <th>0.975]</th>  \n",
       "</tr>\n",
       "<tr>\n",
       "  <th>Lifetime_Gross_MOJO</th>                 <td>-3.933e-09</td> <td> 1.21e-08</td> <td>   -0.326</td> <td> 0.744</td> <td>-2.76e-08</td> <td> 1.98e-08</td>\n",
       "</tr>\n",
       "<tr>\n",
       "  <th>Max_Theaters</th>                        <td>    0.0004</td> <td>    0.000</td> <td>    0.866</td> <td> 0.387</td> <td>   -0.000</td> <td>    0.001</td>\n",
       "</tr>\n",
       "<tr>\n",
       "  <th>Opening_Box</th>                         <td> 1.278e-07</td> <td> 8.42e-08</td> <td>    1.518</td> <td> 0.130</td> <td>-3.77e-08</td> <td> 2.93e-07</td>\n",
       "</tr>\n",
       "<tr>\n",
       "  <th>Opening_Th</th>                          <td>   -0.0007</td> <td>    0.000</td> <td>   -1.445</td> <td> 0.149</td> <td>   -0.002</td> <td>    0.000</td>\n",
       "</tr>\n",
       "<tr>\n",
       "  <th>Metacritic</th>                          <td>    0.0238</td> <td>    0.003</td> <td>    8.037</td> <td> 0.000</td> <td>    0.018</td> <td>    0.030</td>\n",
       "</tr>\n",
       "<tr>\n",
       "  <th>Number_of_votes_IMDB</th>                <td> 1.088e-06</td> <td> 3.58e-06</td> <td>    0.304</td> <td> 0.762</td> <td>-5.96e-06</td> <td> 8.14e-06</td>\n",
       "</tr>\n",
       "<tr>\n",
       "  <th>Release_Difference</th>                  <td>-2.715e-05</td> <td> 1.19e-05</td> <td>   -2.276</td> <td> 0.023</td> <td>-5.06e-05</td> <td>-3.69e-06</td>\n",
       "</tr>\n",
       "<tr>\n",
       "  <th>CBS Films</th>                           <td> 2.167e-12</td> <td> 2.14e-13</td> <td>   10.141</td> <td> 0.000</td> <td> 1.75e-12</td> <td> 2.59e-12</td>\n",
       "</tr>\n",
       "<tr>\n",
       "  <th>Focus Features</th>                      <td>    4.6994</td> <td>    0.532</td> <td>    8.834</td> <td> 0.000</td> <td>    3.654</td> <td>    5.745</td>\n",
       "</tr>\n",
       "<tr>\n",
       "  <th>IDP Distribution</th>                    <td> 5.513e-13</td> <td> 5.42e-14</td> <td>   10.175</td> <td> 0.000</td> <td> 4.45e-13</td> <td> 6.58e-13</td>\n",
       "</tr>\n",
       "<tr>\n",
       "  <th>IMAX</th>                                <td>    4.9147</td> <td>    0.650</td> <td>    7.564</td> <td> 0.000</td> <td>    3.637</td> <td>    6.192</td>\n",
       "</tr>\n",
       "<tr>\n",
       "  <th>Lionsgate</th>                           <td>    4.7792</td> <td>    0.477</td> <td>   10.020</td> <td> 0.000</td> <td>    3.841</td> <td>    5.717</td>\n",
       "</tr>\n",
       "<tr>\n",
       "  <th>National Geographic Entertainment</th>   <td>    5.1533</td> <td>    0.533</td> <td>    9.674</td> <td> 0.000</td> <td>    4.106</td> <td>    6.201</td>\n",
       "</tr>\n",
       "<tr>\n",
       "  <th>Neon</th>                                <td>    5.0939</td> <td>    0.536</td> <td>    9.499</td> <td> 0.000</td> <td>    4.040</td> <td>    6.148</td>\n",
       "</tr>\n",
       "<tr>\n",
       "  <th>Other</th>                               <td>    4.8662</td> <td>    0.461</td> <td>   10.566</td> <td> 0.000</td> <td>    3.961</td> <td>    5.772</td>\n",
       "</tr>\n",
       "<tr>\n",
       "  <th>Overture Films</th>                      <td> 6.467e-14</td> <td> 6.41e-15</td> <td>   10.088</td> <td> 0.000</td> <td> 5.21e-14</td> <td> 7.73e-14</td>\n",
       "</tr>\n",
       "<tr>\n",
       "  <th>Paramount Classics</th>                  <td>    4.6279</td> <td>    0.475</td> <td>    9.742</td> <td> 0.000</td> <td>    3.694</td> <td>    5.562</td>\n",
       "</tr>\n",
       "<tr>\n",
       "  <th>Paramount Pictures</th>                  <td>    4.6083</td> <td>    0.571</td> <td>    8.076</td> <td> 0.000</td> <td>    3.486</td> <td>    5.730</td>\n",
       "</tr>\n",
       "<tr>\n",
       "  <th>Sony Pictures Entertainment (SPE)</th>   <td> -2.56e-14</td> <td> 2.53e-15</td> <td>  -10.101</td> <td> 0.000</td> <td>-3.06e-14</td> <td>-2.06e-14</td>\n",
       "</tr>\n",
       "<tr>\n",
       "  <th>United Artists</th>                      <td>    4.4727</td> <td>    0.608</td> <td>    7.354</td> <td> 0.000</td> <td>    3.277</td> <td>    5.668</td>\n",
       "</tr>\n",
       "<tr>\n",
       "  <th>Walt Disney Studios Motion Pictures</th> <td>    5.0825</td> <td>    0.541</td> <td>    9.390</td> <td> 0.000</td> <td>    4.018</td> <td>    6.147</td>\n",
       "</tr>\n",
       "<tr>\n",
       "  <th>Warner Bros.</th>                        <td>    4.8850</td> <td>    0.493</td> <td>    9.915</td> <td> 0.000</td> <td>    3.916</td> <td>    5.854</td>\n",
       "</tr>\n",
       "<tr>\n",
       "  <th>Warner Independent Pictures (WIP)</th>   <td>    4.0084</td> <td>    1.028</td> <td>    3.899</td> <td> 0.000</td> <td>    1.987</td> <td>    6.030</td>\n",
       "</tr>\n",
       "<tr>\n",
       "  <th>log_Lifetime_Gross_MOJO</th>             <td>    0.0747</td> <td>    0.040</td> <td>    1.857</td> <td> 0.064</td> <td>   -0.004</td> <td>    0.154</td>\n",
       "</tr>\n",
       "<tr>\n",
       "  <th>log_Max_Theaters</th>                    <td>   -0.1055</td> <td>    0.045</td> <td>   -2.371</td> <td> 0.018</td> <td>   -0.193</td> <td>   -0.018</td>\n",
       "</tr>\n",
       "<tr>\n",
       "  <th>log_Opening_Box</th>                     <td>   -0.0492</td> <td>    0.043</td> <td>   -1.154</td> <td> 0.249</td> <td>   -0.133</td> <td>    0.035</td>\n",
       "</tr>\n",
       "<tr>\n",
       "  <th>log_Opening_Th</th>                      <td>    0.0586</td> <td>    0.036</td> <td>    1.612</td> <td> 0.108</td> <td>   -0.013</td> <td>    0.130</td>\n",
       "</tr>\n",
       "<tr>\n",
       "  <th>log_Number_of_votes_IMDB</th>            <td>    0.1031</td> <td>    0.039</td> <td>    2.655</td> <td> 0.008</td> <td>    0.027</td> <td>    0.180</td>\n",
       "</tr>\n",
       "</table>\n",
       "<table class=\"simpletable\">\n",
       "<tr>\n",
       "  <th>Omnibus:</th>       <td>28.046</td> <th>  Durbin-Watson:     </th> <td>   1.981</td>\n",
       "</tr>\n",
       "<tr>\n",
       "  <th>Prob(Omnibus):</th> <td> 0.000</td> <th>  Jarque-Bera (JB):  </th> <td>  48.222</td>\n",
       "</tr>\n",
       "<tr>\n",
       "  <th>Skew:</th>          <td>-0.439</td> <th>  Prob(JB):          </th> <td>3.38e-11</td>\n",
       "</tr>\n",
       "<tr>\n",
       "  <th>Kurtosis:</th>      <td> 4.411</td> <th>  Cond. No.          </th> <td>1.00e+16</td>\n",
       "</tr>\n",
       "</table><br/><br/>Warnings:<br/>[1] Standard Errors assume that the covariance matrix of the errors is correctly specified.<br/>[2] The smallest eigenvalue is 1.24e-16. This might indicate that there are<br/>strong multicollinearity problems or that the design matrix is singular."
      ],
      "text/plain": [
       "<class 'statsmodels.iolib.summary.Summary'>\n",
       "\"\"\"\n",
       "                            OLS Regression Results                            \n",
       "==============================================================================\n",
       "Dep. Variable:       User_Rating_IMDB   R-squared:                       0.334\n",
       "Model:                            OLS   Adj. R-squared:                  0.296\n",
       "Method:                 Least Squares   F-statistic:                     8.626\n",
       "Date:                Mon, 12 Oct 2020   Prob (F-statistic):           2.01e-23\n",
       "Time:                        18:58:37   Log-Likelihood:                -212.68\n",
       "No. Observations:                 419   AIC:                             473.4\n",
       "Df Residuals:                     395   BIC:                             570.3\n",
       "Df Model:                          23                                         \n",
       "Covariance Type:            nonrobust                                         \n",
       "=======================================================================================================\n",
       "                                          coef    std err          t      P>|t|      [0.025      0.975]\n",
       "-------------------------------------------------------------------------------------------------------\n",
       "Lifetime_Gross_MOJO                 -3.933e-09   1.21e-08     -0.326      0.744   -2.76e-08    1.98e-08\n",
       "Max_Theaters                            0.0004      0.000      0.866      0.387      -0.000       0.001\n",
       "Opening_Box                          1.278e-07   8.42e-08      1.518      0.130   -3.77e-08    2.93e-07\n",
       "Opening_Th                             -0.0007      0.000     -1.445      0.149      -0.002       0.000\n",
       "Metacritic                              0.0238      0.003      8.037      0.000       0.018       0.030\n",
       "Number_of_votes_IMDB                 1.088e-06   3.58e-06      0.304      0.762   -5.96e-06    8.14e-06\n",
       "Release_Difference                  -2.715e-05   1.19e-05     -2.276      0.023   -5.06e-05   -3.69e-06\n",
       "CBS Films                            2.167e-12   2.14e-13     10.141      0.000    1.75e-12    2.59e-12\n",
       "Focus Features                          4.6994      0.532      8.834      0.000       3.654       5.745\n",
       "IDP Distribution                     5.513e-13   5.42e-14     10.175      0.000    4.45e-13    6.58e-13\n",
       "IMAX                                    4.9147      0.650      7.564      0.000       3.637       6.192\n",
       "Lionsgate                               4.7792      0.477     10.020      0.000       3.841       5.717\n",
       "National Geographic Entertainment       5.1533      0.533      9.674      0.000       4.106       6.201\n",
       "Neon                                    5.0939      0.536      9.499      0.000       4.040       6.148\n",
       "Other                                   4.8662      0.461     10.566      0.000       3.961       5.772\n",
       "Overture Films                       6.467e-14   6.41e-15     10.088      0.000    5.21e-14    7.73e-14\n",
       "Paramount Classics                      4.6279      0.475      9.742      0.000       3.694       5.562\n",
       "Paramount Pictures                      4.6083      0.571      8.076      0.000       3.486       5.730\n",
       "Sony Pictures Entertainment (SPE)    -2.56e-14   2.53e-15    -10.101      0.000   -3.06e-14   -2.06e-14\n",
       "United Artists                          4.4727      0.608      7.354      0.000       3.277       5.668\n",
       "Walt Disney Studios Motion Pictures     5.0825      0.541      9.390      0.000       4.018       6.147\n",
       "Warner Bros.                            4.8850      0.493      9.915      0.000       3.916       5.854\n",
       "Warner Independent Pictures (WIP)       4.0084      1.028      3.899      0.000       1.987       6.030\n",
       "log_Lifetime_Gross_MOJO                 0.0747      0.040      1.857      0.064      -0.004       0.154\n",
       "log_Max_Theaters                       -0.1055      0.045     -2.371      0.018      -0.193      -0.018\n",
       "log_Opening_Box                        -0.0492      0.043     -1.154      0.249      -0.133       0.035\n",
       "log_Opening_Th                          0.0586      0.036      1.612      0.108      -0.013       0.130\n",
       "log_Number_of_votes_IMDB                0.1031      0.039      2.655      0.008       0.027       0.180\n",
       "==============================================================================\n",
       "Omnibus:                       28.046   Durbin-Watson:                   1.981\n",
       "Prob(Omnibus):                  0.000   Jarque-Bera (JB):               48.222\n",
       "Skew:                          -0.439   Prob(JB):                     3.38e-11\n",
       "Kurtosis:                       4.411   Cond. No.                     1.00e+16\n",
       "==============================================================================\n",
       "\n",
       "Warnings:\n",
       "[1] Standard Errors assume that the covariance matrix of the errors is correctly specified.\n",
       "[2] The smallest eigenvalue is 1.24e-16. This might indicate that there are\n",
       "strong multicollinearity problems or that the design matrix is singular.\n",
       "\"\"\""
      ]
     },
     "execution_count": 38,
     "metadata": {},
     "output_type": "execute_result"
    }
   ],
   "source": [
    "#Use statsmodel to create a summary table\n",
    "sm.tools.tools.add_constant(df)\n",
    "baseline_model = sm.OLS(yl_train,Xl_train)\n",
    "baseline_fit = baseline_model.fit()\n",
    "baseline_fit.summary()"
   ]
  },
  {
   "cell_type": "code",
   "execution_count": 39,
   "metadata": {},
   "outputs": [],
   "source": [
    "#Scale using standard scaler\n",
    "s = StandardScaler()\n",
    "Xl_tr_scaled = s.fit_transform(Xl_train)\n",
    "Xl_te_scaled = s.fit_transform(Xl_test)"
   ]
  },
  {
   "cell_type": "code",
   "execution_count": 40,
   "metadata": {},
   "outputs": [
    {
     "data": {
      "text/plain": [
       "0.3343362534977917"
      ]
     },
     "execution_count": 40,
     "metadata": {},
     "output_type": "execute_result"
    }
   ],
   "source": [
    "#Make a linear regression model\n",
    "logf_lr = LinearRegression()\n",
    "logf_lr.fit(Xl_tr_scaled,yl_train)\n",
    "logf_lr.score(Xl_tr_scaled,yl_train)"
   ]
  },
  {
   "cell_type": "code",
   "execution_count": 41,
   "metadata": {},
   "outputs": [],
   "source": [
    "#Make a prediction using the linear regresion model with log transformed features.\n",
    "predictionl = logf_lr.predict(Xl_te_scaled)"
   ]
  },
  {
   "cell_type": "code",
   "execution_count": 46,
   "metadata": {},
   "outputs": [
    {
     "data": {
      "text/plain": [
       "<matplotlib.legend.Legend at 0x12afe54c0>"
      ]
     },
     "execution_count": 46,
     "metadata": {},
     "output_type": "execute_result"
    },
    {
     "data": {
      "image/png": "[encoded data removed]",
      "text/plain": [
       "<Figure size 720x720 with 1 Axes>"
      ]
     },
     "metadata": {
      "needs_background": "light"
     },
     "output_type": "display_data"
    }
   ],
   "source": [
    "plt.figure(figsize = (10,10))\n",
    "plt.scatter(yl_test, predictionl, alpha = 0.2)\n",
    "plt.plot(yl_test, yl_test, 'm--', label = 'Ideal Prediction', c = 'g')\n",
    "plt.title('Actual User IMDB scores vs. Predicted Scores', fontsize = 18)\n",
    "plt.ylabel('Predicted User Metacritic Score', fontsize = 16)\n",
    "plt.xlabel('Actual User IMDB score', fontsize = 16)\n",
    "plt.legend()"
   ]
  },
  {
   "cell_type": "code",
   "execution_count": 43,
   "metadata": {},
   "outputs": [],
   "source": [
    "residuals_l = abs(predictionl - yl_test)"
   ]
  },
  {
   "cell_type": "code",
   "execution_count": 44,
   "metadata": {},
   "outputs": [
    {
     "data": {
      "image/png": "[encoded data removed]",
      "text/plain": [
       "<Figure size 432x288 with 1 Axes>"
      ]
     },
     "metadata": {
      "needs_background": "light"
     },
     "output_type": "display_data"
    }
   ],
   "source": [
    "plt.scatter(residuals_l, predictionl)\n",
    "plt.title('Residuals for Predicted User IMDB Scores', fontsize = 14)\n",
    "plt.xlabel('Residuals', fontsize = 12)\n",
    "plt.ylabel('Predicted User IMDB score', fontsize = 12)\n",
    "plt.show()"
   ]
  },
  {
   "cell_type": "code",
   "execution_count": 45,
   "metadata": {},
   "outputs": [
    {
     "data": {
      "image/png": "[encoded data removed]",
      "text/plain": [
       "<Figure size 432x288 with 1 Axes>"
      ]
     },
     "metadata": {
      "needs_background": "light"
     },
     "output_type": "display_data"
    }
   ],
   "source": [
    "residuals_l_2 = predictionl - yl_test\n",
    "plt.scatter(predictionl, residuals_l_2)\n",
    "plt.title('Residuals for Predicted User IMDB Scores', fontsize = 14)\n",
    "plt.ylabel('Residuals', fontsize = 12)\n",
    "plt.xlabel('Predicted User IMDB score', fontsize = 12)\n",
    "plt.show()"
   ]
  },
  {
   "cell_type": "code",
   "execution_count": 50,
   "metadata": {},
   "outputs": [
    {
     "data": {
      "text/plain": [
       "-0.05547448573701571"
      ]
     },
     "execution_count": 50,
     "metadata": {},
     "output_type": "execute_result"
    }
   ],
   "source": [
    "residuals_l_2.mean()"
   ]
  },
  {
   "cell_type": "code",
   "execution_count": 53,
   "metadata": {},
   "outputs": [
    {
     "data": {
      "text/plain": [
       "0.4693165827512765"
      ]
     },
     "execution_count": 53,
     "metadata": {},
     "output_type": "execute_result"
    }
   ],
   "source": [
    "rmse(predictionl, yl_test)"
   ]
  },
  {
   "cell_type": "code",
   "execution_count": 54,
   "metadata": {},
   "outputs": [
    {
     "data": {
      "text/plain": [
       "-42161899718.66791"
      ]
     },
     "execution_count": 54,
     "metadata": {},
     "output_type": "execute_result"
    }
   ],
   "source": [
    "logf_lr.score(Xl_test,yl_test)"
   ]
  },
  {
   "cell_type": "code",
   "execution_count": 56,
   "metadata": {},
   "outputs": [
    {
     "data": {
      "text/plain": [
       "0.3530135692550326"
      ]
     },
     "execution_count": 56,
     "metadata": {},
     "output_type": "execute_result"
    }
   ],
   "source": [
    "mae(y_test, predictionl)"
   ]
  },
  {
   "cell_type": "code",
   "execution_count": 59,
   "metadata": {},
   "outputs": [
    {
     "data": {
      "text/plain": [
       "287    2.031957\n",
       "425    1.177784\n",
       "280    1.144650\n",
       "132    0.774029\n",
       "225    0.648324\n",
       "158    0.624121\n",
       "18     0.584216\n",
       "0      0.580743\n",
       "517    0.502533\n",
       "310    0.476608\n",
       "Name: User_Rating_IMDB, dtype: float64"
      ]
     },
     "execution_count": 59,
     "metadata": {},
     "output_type": "execute_result"
    }
   ],
   "source": [
    "residuals_l_2.sort_values(ascending=False).head(10)"
   ]
  },
  {
   "cell_type": "markdown",
   "metadata": {},
   "source": [
    "## Polynomial Features"
   ]
  },
  {
   "cell_type": "code",
   "execution_count": 83,
   "metadata": {},
   "outputs": [],
   "source": [
    "#Transform certain features using polynimal features.\n",
    "X_small = df[['Rank_MOJO_by_Box_office', 'Lifetime_Gross_MOJO','Max_Theaters',\n",
    "                     'Opening_Box', 'Opening_Th', 'Metacritic',\n",
    "                     'Number_of_votes_IMDB', 'Release_Difference']]\n",
    "y = df['User_Rating_IMDB']"
   ]
  },
  {
   "cell_type": "code",
   "execution_count": 199,
   "metadata": {},
   "outputs": [],
   "source": [
    "#Split into training and test dataset (80/20)\n",
    "Xs_train, Xs_test, ys_train, ys_test = train_test_split(X_small, y, test_size=.20, random_state=42)"
   ]
  },
  {
   "cell_type": "code",
   "execution_count": 200,
   "metadata": {},
   "outputs": [
    {
     "name": "stdout",
     "output_type": "stream",
     "text": [
      "The shape of the training data set is:(419, 8)\n",
      "The shape of the test data set is:(105, 8)\n"
     ]
    }
   ],
   "source": [
    "print('The shape of the training data set is:{}'.format( Xs_train.shape))\n",
    "print('The shape of the test data set is:{}'.format(Xs_test.shape))"
   ]
  },
  {
   "cell_type": "code",
   "execution_count": 201,
   "metadata": {},
   "outputs": [],
   "source": [
    "#Transform into polynomial features\n",
    "poly_2_2 = PolynomialFeatures(degree=2)\n",
    "Xtr = poly_2_2.fit_transform(Xs_train)\n",
    "Xte = poly_2_2.fit_transform(Xs_test)"
   ]
  },
  {
   "cell_type": "code",
   "execution_count": 202,
   "metadata": {},
   "outputs": [],
   "source": [
    "#Scale using standard scaler\n",
    "s = StandardScaler()\n",
    "Xstr = s.fit_transform(Xtr)\n",
    "Xste = s.fit_transform(Xte)"
   ]
  },
  {
   "cell_type": "code",
   "execution_count": 203,
   "metadata": {},
   "outputs": [
    {
     "data": {
      "text/plain": [
       "0.37864915951463707"
      ]
     },
     "execution_count": 203,
     "metadata": {},
     "output_type": "execute_result"
    }
   ],
   "source": [
    "#Create linear regression model\n",
    "poly_2_2 = PolynomialFeatures(degree=2)\n",
    "lr3 = LinearRegression()\n",
    "lr3.fit(Xstr, ys_train)\n",
    "lr3.score(Xstr, ys_train)\n",
    "\n"
   ]
  },
  {
   "cell_type": "code",
   "execution_count": 204,
   "metadata": {},
   "outputs": [
    {
     "name": "stdout",
     "output_type": "stream",
     "text": [
      "-1.2442105166460018\n"
     ]
    }
   ],
   "source": [
    "#Make a prediction\n",
    "prediction3 = lr3.predict(Xste)\n",
    "r2 = r2_score(ys_test, prediction3)\n",
    "print(r2)"
   ]
  },
  {
   "cell_type": "code",
   "execution_count": 205,
   "metadata": {},
   "outputs": [
    {
     "data": {
      "text/plain": [
       "<matplotlib.legend.Legend at 0x11f2b7370>"
      ]
     },
     "execution_count": 205,
     "metadata": {},
     "output_type": "execute_result"
    },
    {
     "data": {
      "image/png": "[encoded data removed]",
      "text/plain": [
       "<Figure size 720x720 with 1 Axes>"
      ]
     },
     "metadata": {
      "needs_background": "light"
     },
     "output_type": "display_data"
    }
   ],
   "source": [
    "plt.figure(figsize = (10,10))\n",
    "plt.scatter(prediction3, ys_test, alpha = 0.2)\n",
    "plt.plot(ys_test, ys_test, 'm--', label = 'Ideal Prediction', c = 'g')\n",
    "plt.title('User IMDB scores vs. Predicted Scores', fontsize = 14)\n",
    "plt.xlabel('Predicted User IMDB Score', fontsize = 12)\n",
    "plt.ylabel('User IMDB score', fontsize = 12)\n",
    "plt.legend()"
   ]
  },
  {
   "cell_type": "code",
   "execution_count": 216,
   "metadata": {},
   "outputs": [
    {
     "name": "stderr",
     "output_type": "stream",
     "text": [
      "/opt/anaconda3/lib/python3.8/site-packages/seaborn/_decorators.py:36: FutureWarning: Pass the following variables as keyword args: x, y. From version 0.12, the only valid positional argument will be `data`, and passing other arguments without an explicit keyword will result in an error or misinterpretation.\n",
      "  warnings.warn(\n"
     ]
    },
    {
     "data": {
      "text/plain": [
       "<AxesSubplot:ylabel='User_Rating_IMDB'>"
      ]
     },
     "execution_count": 216,
     "metadata": {},
     "output_type": "execute_result"
    },
    {
     "data": {
      "image/png": "[encoded data removed]",
      "text/plain": [
       "<Figure size 432x288 with 1 Axes>"
      ]
     },
     "metadata": {
      "needs_background": "light"
     },
     "output_type": "display_data"
    }
   ],
   "source": [
    "sns.regplot(prediction3, ys_test)"
   ]
  },
  {
   "cell_type": "code",
   "execution_count": 210,
   "metadata": {},
   "outputs": [
    {
     "data": {
      "text/plain": [
       "<seaborn.axisgrid.FacetGrid at 0x11d96c880>"
      ]
     },
     "execution_count": 210,
     "metadata": {},
     "output_type": "execute_result"
    },
    {
     "data": {
      "image/png": "[encoded data removed]",
      "text/plain": [
       "<Figure size 360x360 with 1 Axes>"
      ]
     },
     "metadata": {
      "needs_background": "light"
     },
     "output_type": "display_data"
    }
   ],
   "source": [
    "sns.displot(residuals, kind = 'kde')"
   ]
  },
  {
   "cell_type": "code",
   "execution_count": 211,
   "metadata": {},
   "outputs": [],
   "source": [
    "residuals3 = abs(ys_test - prediction3)"
   ]
  },
  {
   "cell_type": "code",
   "execution_count": 212,
   "metadata": {},
   "outputs": [
    {
     "data": {
      "image/png": "[encoded data removed]",
      "text/plain": [
       "<Figure size 432x288 with 1 Axes>"
      ]
     },
     "metadata": {
      "needs_background": "light"
     },
     "output_type": "display_data"
    }
   ],
   "source": [
    "plt.scatter(prediction3, residuals3)\n",
    "plt.title('Residuals for Predicted User IMDB Scores', fontsize = 14)\n",
    "plt.ylabel('Residuals', fontsize = 12)\n",
    "plt.xlabel('Predicted User IMDB score', fontsize = 12)\n",
    "plt.show()"
   ]
  },
  {
   "cell_type": "code",
   "execution_count": 206,
   "metadata": {},
   "outputs": [
    {
     "data": {
      "text/plain": [
       "0.7697005959157319"
      ]
     },
     "execution_count": 206,
     "metadata": {},
     "output_type": "execute_result"
    }
   ],
   "source": [
    "rmse(prediction3, ys_test)"
   ]
  },
  {
   "cell_type": "code",
   "execution_count": 207,
   "metadata": {},
   "outputs": [
    {
     "data": {
      "text/plain": [
       "0.4149480229014415"
      ]
     },
     "execution_count": 207,
     "metadata": {},
     "output_type": "execute_result"
    }
   ],
   "source": [
    "mae(ys_test, prediction3)"
   ]
  },
  {
   "cell_type": "code",
   "execution_count": 208,
   "metadata": {},
   "outputs": [
    {
     "data": {
      "text/plain": [
       "-1.2442105166460018"
      ]
     },
     "execution_count": 208,
     "metadata": {},
     "output_type": "execute_result"
    }
   ],
   "source": [
    "lr3.score(Xste, ys_test)"
   ]
  },
  {
   "cell_type": "markdown",
   "metadata": {},
   "source": [
    "## Using selected features \n",
    "Picked from statsmodel summary table, picked coefficients with lower p-values."
   ]
  },
  {
   "cell_type": "code",
   "execution_count": 221,
   "metadata": {},
   "outputs": [],
   "source": [
    "X_log = df[[  'Metacritic',\n",
    "              'Release_Difference', 'CBS Films',\n",
    "              'Focus Features', 'IDP Distribution', 'IMAX', 'Lionsgate',\n",
    "              'National Geographic Entertainment', 'Neon', 'Other', 'Overture Films',\n",
    "              'Paramount Classics', 'Paramount Pictures',\n",
    "              'Sony Pictures Entertainment (SPE)', 'United Artists',\n",
    "              'Walt Disney Studios Motion Pictures', 'Warner Bros.',\n",
    "              'Warner Independent Pictures (WIP)', 'log_Lifetime_Gross_MOJO',\n",
    "            'log_Number_of_votes_IMDB']]\n",
    "\n",
    "y_log = df['User_Rating_IMDB']\n",
    "\n"
   ]
  },
  {
   "cell_type": "code",
   "execution_count": 222,
   "metadata": {},
   "outputs": [],
   "source": [
    "#Split into training and test datset (80/20)\n",
    "Xl_train, Xl_test, yl_train, yl_test = train_test_split(X_log, y_log, test_size=.20, random_state=42)"
   ]
  },
  {
   "cell_type": "code",
   "execution_count": 223,
   "metadata": {},
   "outputs": [
    {
     "data": {
      "text/html": [
       "<table class=\"simpletable\">\n",
       "<caption>OLS Regression Results</caption>\n",
       "<tr>\n",
       "  <th>Dep. Variable:</th>    <td>User_Rating_IMDB</td> <th>  R-squared:         </th> <td>   0.318</td>\n",
       "</tr>\n",
       "<tr>\n",
       "  <th>Model:</th>                   <td>OLS</td>       <th>  Adj. R-squared:    </th> <td>   0.293</td>\n",
       "</tr>\n",
       "<tr>\n",
       "  <th>Method:</th>             <td>Least Squares</td>  <th>  F-statistic:       </th> <td>   12.54</td>\n",
       "</tr>\n",
       "<tr>\n",
       "  <th>Date:</th>             <td>Fri, 09 Oct 2020</td> <th>  Prob (F-statistic):</th> <td>1.10e-25</td>\n",
       "</tr>\n",
       "<tr>\n",
       "  <th>Time:</th>                 <td>18:20:11</td>     <th>  Log-Likelihood:    </th> <td> -217.71</td>\n",
       "</tr>\n",
       "<tr>\n",
       "  <th>No. Observations:</th>      <td>   419</td>      <th>  AIC:               </th> <td>   467.4</td>\n",
       "</tr>\n",
       "<tr>\n",
       "  <th>Df Residuals:</th>          <td>   403</td>      <th>  BIC:               </th> <td>   532.0</td>\n",
       "</tr>\n",
       "<tr>\n",
       "  <th>Df Model:</th>              <td>    15</td>      <th>                     </th>     <td> </td>   \n",
       "</tr>\n",
       "<tr>\n",
       "  <th>Covariance Type:</th>      <td>nonrobust</td>    <th>                     </th>     <td> </td>   \n",
       "</tr>\n",
       "</table>\n",
       "<table class=\"simpletable\">\n",
       "<tr>\n",
       "                   <td></td>                      <th>coef</th>     <th>std err</th>      <th>t</th>      <th>P>|t|</th>  <th>[0.025</th>    <th>0.975]</th>  \n",
       "</tr>\n",
       "<tr>\n",
       "  <th>Metacritic</th>                          <td>    0.0245</td> <td>    0.003</td> <td>    8.493</td> <td> 0.000</td> <td>    0.019</td> <td>    0.030</td>\n",
       "</tr>\n",
       "<tr>\n",
       "  <th>Release_Difference</th>                  <td>-4.206e-05</td> <td> 1.02e-05</td> <td>   -4.143</td> <td> 0.000</td> <td> -6.2e-05</td> <td>-2.21e-05</td>\n",
       "</tr>\n",
       "<tr>\n",
       "  <th>CBS Films</th>                           <td> 6.626e-14</td> <td> 3.94e-15</td> <td>   16.815</td> <td> 0.000</td> <td> 5.85e-14</td> <td>  7.4e-14</td>\n",
       "</tr>\n",
       "<tr>\n",
       "  <th>Focus Features</th>                      <td>    5.0639</td> <td>    0.386</td> <td>   13.132</td> <td> 0.000</td> <td>    4.306</td> <td>    5.822</td>\n",
       "</tr>\n",
       "<tr>\n",
       "  <th>IDP Distribution</th>                    <td>-3.222e-15</td> <td> 2.36e-16</td> <td>  -13.679</td> <td> 0.000</td> <td>-3.69e-15</td> <td>-2.76e-15</td>\n",
       "</tr>\n",
       "<tr>\n",
       "  <th>IMAX</th>                                <td>    5.4039</td> <td>    0.520</td> <td>   10.388</td> <td> 0.000</td> <td>    4.381</td> <td>    6.427</td>\n",
       "</tr>\n",
       "<tr>\n",
       "  <th>Lionsgate</th>                           <td>    5.0691</td> <td>    0.320</td> <td>   15.824</td> <td> 0.000</td> <td>    4.439</td> <td>    5.699</td>\n",
       "</tr>\n",
       "<tr>\n",
       "  <th>National Geographic Entertainment</th>   <td>    5.4292</td> <td>    0.383</td> <td>   14.185</td> <td> 0.000</td> <td>    4.677</td> <td>    6.182</td>\n",
       "</tr>\n",
       "<tr>\n",
       "  <th>Neon</th>                                <td>    5.4285</td> <td>    0.389</td> <td>   13.950</td> <td> 0.000</td> <td>    4.664</td> <td>    6.194</td>\n",
       "</tr>\n",
       "<tr>\n",
       "  <th>Other</th>                               <td>    5.1814</td> <td>    0.282</td> <td>   18.354</td> <td> 0.000</td> <td>    4.626</td> <td>    5.736</td>\n",
       "</tr>\n",
       "<tr>\n",
       "  <th>Overture Films</th>                      <td>-2.513e-15</td> <td> 2.04e-16</td> <td>  -12.345</td> <td> 0.000</td> <td>-2.91e-15</td> <td>-2.11e-15</td>\n",
       "</tr>\n",
       "<tr>\n",
       "  <th>Paramount Classics</th>                  <td>    4.8702</td> <td>    0.369</td> <td>   13.184</td> <td> 0.000</td> <td>    4.144</td> <td>    5.596</td>\n",
       "</tr>\n",
       "<tr>\n",
       "  <th>Paramount Pictures</th>                  <td>    5.0341</td> <td>    0.412</td> <td>   12.211</td> <td> 0.000</td> <td>    4.224</td> <td>    5.845</td>\n",
       "</tr>\n",
       "<tr>\n",
       "  <th>Sony Pictures Entertainment (SPE)</th>   <td> 1.017e-17</td> <td> 4.64e-17</td> <td>    0.219</td> <td> 0.827</td> <td> -8.1e-17</td> <td> 1.01e-16</td>\n",
       "</tr>\n",
       "<tr>\n",
       "  <th>United Artists</th>                      <td>    4.6941</td> <td>    0.491</td> <td>    9.569</td> <td> 0.000</td> <td>    3.730</td> <td>    5.658</td>\n",
       "</tr>\n",
       "<tr>\n",
       "  <th>Walt Disney Studios Motion Pictures</th> <td>    5.4570</td> <td>    0.347</td> <td>   15.711</td> <td> 0.000</td> <td>    4.774</td> <td>    6.140</td>\n",
       "</tr>\n",
       "<tr>\n",
       "  <th>Warner Bros.</th>                        <td>    5.2263</td> <td>    0.341</td> <td>   15.330</td> <td> 0.000</td> <td>    4.556</td> <td>    5.896</td>\n",
       "</tr>\n",
       "<tr>\n",
       "  <th>Warner Independent Pictures (WIP)</th>   <td>    4.8097</td> <td>    0.527</td> <td>    9.135</td> <td> 0.000</td> <td>    3.775</td> <td>    5.845</td>\n",
       "</tr>\n",
       "<tr>\n",
       "  <th>log_Lifetime_Gross_MOJO</th>             <td>   -0.0057</td> <td>    0.014</td> <td>   -0.401</td> <td> 0.689</td> <td>   -0.034</td> <td>    0.022</td>\n",
       "</tr>\n",
       "<tr>\n",
       "  <th>log_Number_of_votes_IMDB</th>            <td>    0.1128</td> <td>    0.025</td> <td>    4.531</td> <td> 0.000</td> <td>    0.064</td> <td>    0.162</td>\n",
       "</tr>\n",
       "</table>\n",
       "<table class=\"simpletable\">\n",
       "<tr>\n",
       "  <th>Omnibus:</th>       <td>28.856</td> <th>  Durbin-Watson:     </th> <td>   1.991</td>\n",
       "</tr>\n",
       "<tr>\n",
       "  <th>Prob(Omnibus):</th> <td> 0.000</td> <th>  Jarque-Bera (JB):  </th> <td>  44.387</td>\n",
       "</tr>\n",
       "<tr>\n",
       "  <th>Skew:</th>          <td>-0.489</td> <th>  Prob(JB):          </th> <td>2.30e-10</td>\n",
       "</tr>\n",
       "<tr>\n",
       "  <th>Kurtosis:</th>      <td> 4.259</td> <th>  Cond. No.          </th> <td>8.74e+22</td>\n",
       "</tr>\n",
       "</table><br/><br/>Warnings:<br/>[1] Standard Errors assume that the covariance matrix of the errors is correctly specified.<br/>[2] The smallest eigenvalue is 6.88e-36. This might indicate that there are<br/>strong multicollinearity problems or that the design matrix is singular."
      ],
      "text/plain": [
       "<class 'statsmodels.iolib.summary.Summary'>\n",
       "\"\"\"\n",
       "                            OLS Regression Results                            \n",
       "==============================================================================\n",
       "Dep. Variable:       User_Rating_IMDB   R-squared:                       0.318\n",
       "Model:                            OLS   Adj. R-squared:                  0.293\n",
       "Method:                 Least Squares   F-statistic:                     12.54\n",
       "Date:                Fri, 09 Oct 2020   Prob (F-statistic):           1.10e-25\n",
       "Time:                        18:20:11   Log-Likelihood:                -217.71\n",
       "No. Observations:                 419   AIC:                             467.4\n",
       "Df Residuals:                     403   BIC:                             532.0\n",
       "Df Model:                          15                                         \n",
       "Covariance Type:            nonrobust                                         \n",
       "=======================================================================================================\n",
       "                                          coef    std err          t      P>|t|      [0.025      0.975]\n",
       "-------------------------------------------------------------------------------------------------------\n",
       "Metacritic                              0.0245      0.003      8.493      0.000       0.019       0.030\n",
       "Release_Difference                  -4.206e-05   1.02e-05     -4.143      0.000    -6.2e-05   -2.21e-05\n",
       "CBS Films                            6.626e-14   3.94e-15     16.815      0.000    5.85e-14     7.4e-14\n",
       "Focus Features                          5.0639      0.386     13.132      0.000       4.306       5.822\n",
       "IDP Distribution                    -3.222e-15   2.36e-16    -13.679      0.000   -3.69e-15   -2.76e-15\n",
       "IMAX                                    5.4039      0.520     10.388      0.000       4.381       6.427\n",
       "Lionsgate                               5.0691      0.320     15.824      0.000       4.439       5.699\n",
       "National Geographic Entertainment       5.4292      0.383     14.185      0.000       4.677       6.182\n",
       "Neon                                    5.4285      0.389     13.950      0.000       4.664       6.194\n",
       "Other                                   5.1814      0.282     18.354      0.000       4.626       5.736\n",
       "Overture Films                      -2.513e-15   2.04e-16    -12.345      0.000   -2.91e-15   -2.11e-15\n",
       "Paramount Classics                      4.8702      0.369     13.184      0.000       4.144       5.596\n",
       "Paramount Pictures                      5.0341      0.412     12.211      0.000       4.224       5.845\n",
       "Sony Pictures Entertainment (SPE)    1.017e-17   4.64e-17      0.219      0.827    -8.1e-17    1.01e-16\n",
       "United Artists                          4.6941      0.491      9.569      0.000       3.730       5.658\n",
       "Walt Disney Studios Motion Pictures     5.4570      0.347     15.711      0.000       4.774       6.140\n",
       "Warner Bros.                            5.2263      0.341     15.330      0.000       4.556       5.896\n",
       "Warner Independent Pictures (WIP)       4.8097      0.527      9.135      0.000       3.775       5.845\n",
       "log_Lifetime_Gross_MOJO                -0.0057      0.014     -0.401      0.689      -0.034       0.022\n",
       "log_Number_of_votes_IMDB                0.1128      0.025      4.531      0.000       0.064       0.162\n",
       "==============================================================================\n",
       "Omnibus:                       28.856   Durbin-Watson:                   1.991\n",
       "Prob(Omnibus):                  0.000   Jarque-Bera (JB):               44.387\n",
       "Skew:                          -0.489   Prob(JB):                     2.30e-10\n",
       "Kurtosis:                       4.259   Cond. No.                     8.74e+22\n",
       "==============================================================================\n",
       "\n",
       "Warnings:\n",
       "[1] Standard Errors assume that the covariance matrix of the errors is correctly specified.\n",
       "[2] The smallest eigenvalue is 6.88e-36. This might indicate that there are\n",
       "strong multicollinearity problems or that the design matrix is singular.\n",
       "\"\"\""
      ]
     },
     "execution_count": 223,
     "metadata": {},
     "output_type": "execute_result"
    }
   ],
   "source": [
    "#Examine regression model using statsmodels\n",
    "sm.tools.tools.add_constant(df)\n",
    "baseline_model = sm.OLS(yl_train,Xl_train)\n",
    "baseline_fit = baseline_model.fit()\n",
    "baseline_fit.summary()"
   ]
  },
  {
   "cell_type": "code",
   "execution_count": 225,
   "metadata": {},
   "outputs": [
    {
     "data": {
      "text/plain": [
       "0.3181547177188684"
      ]
     },
     "execution_count": 225,
     "metadata": {},
     "output_type": "execute_result"
    }
   ],
   "source": [
    "logf_lr = LinearRegression()\n",
    "logf_lr.fit(Xl_train,yl_train)\n",
    "logf_lr.score(Xl_train,yl_train)"
   ]
  },
  {
   "cell_type": "code",
   "execution_count": 226,
   "metadata": {},
   "outputs": [],
   "source": [
    "#Make a prediction using the linear regression model\n",
    "predictionl = logf_lr.predict(Xl_test)"
   ]
  },
  {
   "cell_type": "code",
   "execution_count": 227,
   "metadata": {},
   "outputs": [
    {
     "data": {
      "text/plain": [
       "<matplotlib.legend.Legend at 0x118964ca0>"
      ]
     },
     "execution_count": 227,
     "metadata": {},
     "output_type": "execute_result"
    },
    {
     "data": {
      "image/png": "[encoded data removed]",
      "text/plain": [
       "<Figure size 720x720 with 1 Axes>"
      ]
     },
     "metadata": {
      "needs_background": "light"
     },
     "output_type": "display_data"
    }
   ],
   "source": [
    "plt.figure(figsize = (10,10))\n",
    "plt.scatter(yl_test, prediction1, alpha = 0.2)\n",
    "plt.plot(yl_test, yl_test, 'm--', label = 'Ideal Prediction', c = 'g')\n",
    "plt.title('Actual User IMDB scores vs. Predicted Scores', fontsize = 18)\n",
    "plt.ylabel('Predicted User Metacritic Score', fontsize = 16)\n",
    "plt.xlabel('Actual User IMDB score', fontsize = 16)\n",
    "plt.legend()"
   ]
  },
  {
   "cell_type": "code",
   "execution_count": 228,
   "metadata": {},
   "outputs": [],
   "source": [
    "residuals_l = abs(predictionl - yl_test)"
   ]
  },
  {
   "cell_type": "code",
   "execution_count": 229,
   "metadata": {},
   "outputs": [
    {
     "data": {
      "image/png": "[encoded data removed]",
      "text/plain": [
       "<Figure size 432x288 with 1 Axes>"
      ]
     },
     "metadata": {
      "needs_background": "light"
     },
     "output_type": "display_data"
    }
   ],
   "source": [
    "plt.scatter(residuals_l, predictionl)\n",
    "plt.title('Residuals for Predicted User IMDB Scores', fontsize = 14)\n",
    "plt.xlabel('Residuals', fontsize = 12)\n",
    "plt.ylabel('Predicted User IMDB score', fontsize = 12)\n",
    "plt.show()"
   ]
  },
  {
   "cell_type": "code",
   "execution_count": 230,
   "metadata": {},
   "outputs": [
    {
     "data": {
      "text/plain": [
       "0.3530135692550326"
      ]
     },
     "execution_count": 230,
     "metadata": {},
     "output_type": "execute_result"
    }
   ],
   "source": [
    "residuals.mean()"
   ]
  },
  {
   "cell_type": "code",
   "execution_count": 234,
   "metadata": {},
   "outputs": [
    {
     "data": {
      "text/plain": [
       "0.14556949901277527"
      ]
     },
     "execution_count": 234,
     "metadata": {},
     "output_type": "execute_result"
    }
   ],
   "source": [
    "logf_lr.score(Xl_test,yl_test)"
   ]
  },
  {
   "cell_type": "code",
   "execution_count": 235,
   "metadata": {},
   "outputs": [
    {
     "data": {
      "text/plain": [
       "0.4749286813429994"
      ]
     },
     "execution_count": 235,
     "metadata": {},
     "output_type": "execute_result"
    }
   ],
   "source": [
    "rmse(predictionl, yl_test)"
   ]
  },
  {
   "cell_type": "code",
   "execution_count": null,
   "metadata": {},
   "outputs": [],
   "source": []
  }
 ],
 "metadata": {
  "kernelspec": {
   "display_name": "Python 3",
   "language": "python",
   "name": "python3"
  },
  "language_info": {
   "codemirror_mode": {
    "name": "ipython",
    "version": 3
   },
   "file_extension": ".py",
   "mimetype": "text/x-python",
   "name": "python",
   "nbconvert_exporter": "python",
   "pygments_lexer": "ipython3",
   "version": "3.8.3"
  }
 },
 "nbformat": 4,
 "nbformat_minor": 4
}
