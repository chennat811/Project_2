{
 "cells": [
  {
   "cell_type": "code",
   "execution_count": 1,
   "metadata": {},
   "outputs": [
    {
     "name": "stdout",
     "output_type": "stream",
     "text": [
      "Python Version: 3.8.3 (default, Jul  2 2020, 11:26:31) \n",
      "[Clang 10.0.0 ]\n"
     ]
    }
   ],
   "source": [
    "%matplotlib inline\n",
    "import sys\n",
    "import pandas as pd\n",
    "import matplotlib.pyplot as plt\n",
    "import seaborn as sns\n",
    "import numpy as np\n",
    "import datetime as datetime\n",
    "import statsmodels.api as sm\n",
    "from sklearn.linear_model import LinearRegression\n",
    "\n",
    "print(\"Python Version:\", sys.version)"
   ]
  },
  {
   "cell_type": "code",
   "execution_count": 2,
   "metadata": {},
   "outputs": [],
   "source": [
    "data_bxoff = pd.read_pickle('box_office.pkl')\n",
    "data_topdoc = pd.read_pickle('top_doc.pkl')\n",
    "data_imdb = pd.read_csv('IMDB_byVote.csv')\n",
    "data_mojo = pd.read_pickle('mojo.pkl')"
   ]
  },
  {
   "cell_type": "code",
   "execution_count": 3,
   "metadata": {},
   "outputs": [],
   "source": [
    "data_bxoff.rename(columns={'Rank':'Rank_BX', 'Year':'Year', \n",
    "                          'Title':'Title', 'Worldwide Box Office':'Worldwide Box Office_BX',\n",
    "                          'Domestic Box Office':'Domestic Box Office_BX', \n",
    "                          'International Box Office':'International Box Office_BX'}, inplace = True)\n"
   ]
  },
  {
   "cell_type": "code",
   "execution_count": 4,
   "metadata": {},
   "outputs": [],
   "source": [
    "data_imdb.drop('Unnamed: 0', axis = 1, inplace = True)\n"
   ]
  },
  {
   "cell_type": "code",
   "execution_count": 5,
   "metadata": {},
   "outputs": [],
   "source": [
    "data_imdb.rename(columns ={'Title':'Title', 'User Rating':'User Rating_IMDB', 'Metacritic':'Metacritic',\n",
    "                               'Number of votes':'Number of votes_IMDB', 'Running Time':'Running Time', \n",
    "                               'Release Date':'Release Date_IMDB', 'Director':'Director'}, inplace = True)\n"
   ]
  },
  {
   "cell_type": "code",
   "execution_count": 22,
   "metadata": {},
   "outputs": [],
   "source": [
    "data_mojo.rename(columns = {'Mojo Rank':'Rank_MOJO_by Box office', 'Title':'Title', 'Lifetime Gross':'Lifetime Gross_MOJO',\n",
    "                            'Max Theaters':'Max Theaters', 'Opening':'Opening Box', 'Opening Th':'Opening Th', 'Release Date':'Release Date',\n",
    "                            'Distributor':'Distributor'}, inplace = True)\n",
    "\n",
    "                            "
   ]
  },
  {
   "cell_type": "code",
   "execution_count": 23,
   "metadata": {},
   "outputs": [],
   "source": [
    "data_mojo = data_mojo.apply(lambda x: x.str.strip('\\n \\n') if x.dtype == \"object\" else x)"
   ]
  },
  {
   "cell_type": "code",
   "execution_count": 24,
   "metadata": {},
   "outputs": [],
   "source": [
    "data_topdoc.rename(columns = {'Title':'Title', 'User Rating - Top Doc':'User Rating-TD', 'Years':'Year_TD', 'Category':'Category'}, inplace = True)\n"
   ]
  },
  {
   "cell_type": "code",
   "execution_count": 25,
   "metadata": {},
   "outputs": [
    {
     "name": "stdout",
     "output_type": "stream",
     "text": [
      "The shape of the IMDB data is: (2000, 7).\n",
      "The shape of Box Office Mojo data is: (2075, 8)\n",
      "The shape of Top Documentary data is: (2549, 4).\n",
      "The shape of the-numbers box office data is: (1211, 6)\n"
     ]
    }
   ],
   "source": [
    "print('The shape of the IMDB data is: {}.'.format(data_imdb.shape))\n",
    "print('The shape of Box Office Mojo data is: {}'.format(data_mojo.shape))\n",
    "print('The shape of Top Documentary data is: {}.'.format(data_topdoc.shape))\n",
    "print('The shape of the-numbers box office data is: {}'.format(data_bxoff.shape))"
   ]
  },
  {
   "cell_type": "code",
   "execution_count": 26,
   "metadata": {},
   "outputs": [],
   "source": [
    "imdb_topdoc = pd.merge(data_topdoc, data_imdb, on=['Title'])\n",
    "imdb_mojo = pd.merge(data_mojo, data_imdb, on=['Title'])\n",
    "imdb_bxoff = pd.merge(data_bxoff, data_imdb, on=['Title'])"
   ]
  },
  {
   "cell_type": "code",
   "execution_count": 27,
   "metadata": {
    "scrolled": true
   },
   "outputs": [],
   "source": [
    "imdb_mojo['Lifetime Gross_MOJO'] = imdb_mojo['Lifetime Gross_MOJO'].replace({'\\$':''}, regex = True)\n",
    "imdb_mojo['Lifetime Gross_MOJO'] = imdb_mojo['Lifetime Gross_MOJO'].replace({',':''}, regex = True)\n",
    "imdb_mojo['Lifetime Gross_MOJO'] = imdb_mojo['Lifetime Gross_MOJO'].replace({'-':''}, regex = True)\n",
    "imdb_mojo['Lifetime Gross_MOJO'] = pd.to_numeric(imdb_mojo['Lifetime Gross_MOJO'])"
   ]
  },
  {
   "cell_type": "code",
   "execution_count": 28,
   "metadata": {},
   "outputs": [],
   "source": [
    "imdb_mojo['Opening Box'] = imdb_mojo['Opening Box'].replace({'\\$':''}, regex = True)\n",
    "imdb_mojo['Opening Box'] = imdb_mojo['Opening Box'].replace({',':''}, regex = True)\n",
    "imdb_mojo['Opening Box'] = imdb_mojo['Opening Box'].replace({'-':''}, regex = True)\n",
    "imdb_mojo['Opening Box'] = pd.to_numeric(imdb_mojo['Opening Box'])"
   ]
  },
  {
   "cell_type": "code",
   "execution_count": 29,
   "metadata": {},
   "outputs": [],
   "source": [
    "imdb_mojo['Number of Votes_IMDB'] = imdb_mojo['Number of Votes_IMDB'].replace({',':''}, regex = True)\n",
    "imdb_mojo['Number of Votes_IMDB'] = pd.to_numeric(imdb_mojo['Number of Votes_IMDB'])"
   ]
  },
  {
   "cell_type": "code",
   "execution_count": null,
   "metadata": {},
   "outputs": [],
   "source": [
    "imdb_mojo['Number of Votes_IMDB'] = pd.to_numeric(imdb_mojo['Number of Votes_IMDB'])"
   ]
  },
  {
   "cell_type": "code",
   "execution_count": 30,
   "metadata": {},
   "outputs": [
    {
     "data": {
      "text/plain": [
       "Rank_MOJO                object\n",
       "Title                    object\n",
       "Lifetime Gross_MOJO       int64\n",
       "Max Theaters             object\n",
       "Opening Box             float64\n",
       "Opening Th               object\n",
       "Release Date             object\n",
       "Distributor              object\n",
       "User Rating_IMDB        float64\n",
       "Metacritic              float64\n",
       "Number of Votes_IMDB      int64\n",
       "Running Time             object\n",
       "Release Date_IMDB        object\n",
       "Director                 object\n",
       "dtype: object"
      ]
     },
     "execution_count": 30,
     "metadata": {},
     "output_type": "execute_result"
    }
   ],
   "source": [
    "imdb_mojo.dtypes"
   ]
  },
  {
   "cell_type": "code",
   "execution_count": 31,
   "metadata": {},
   "outputs": [
    {
     "data": {
      "text/html": [
       "<div>\n",
       "<style scoped>\n",
       "    .dataframe tbody tr th:only-of-type {\n",
       "        vertical-align: middle;\n",
       "    }\n",
       "\n",
       "    .dataframe tbody tr th {\n",
       "        vertical-align: top;\n",
       "    }\n",
       "\n",
       "    .dataframe thead th {\n",
       "        text-align: right;\n",
       "    }\n",
       "</style>\n",
       "<table border=\"1\" class=\"dataframe\">\n",
       "  <thead>\n",
       "    <tr style=\"text-align: right;\">\n",
       "      <th></th>\n",
       "      <th>Rank_MOJO</th>\n",
       "      <th>Title</th>\n",
       "      <th>Lifetime Gross_MOJO</th>\n",
       "      <th>Max Theaters</th>\n",
       "      <th>Opening Box</th>\n",
       "      <th>Opening Th</th>\n",
       "      <th>Release Date</th>\n",
       "      <th>Distributor</th>\n",
       "      <th>User Rating_IMDB</th>\n",
       "      <th>Metacritic</th>\n",
       "      <th>Number of Votes_IMDB</th>\n",
       "      <th>Running Time</th>\n",
       "      <th>Release Date_IMDB</th>\n",
       "      <th>Director</th>\n",
       "    </tr>\n",
       "  </thead>\n",
       "  <tbody>\n",
       "    <tr>\n",
       "      <th>0</th>\n",
       "      <td>1</td>\n",
       "      <td>Fahrenheit 9/11</td>\n",
       "      <td>119194771</td>\n",
       "      <td>2,011</td>\n",
       "      <td>23920637.0</td>\n",
       "      <td>868</td>\n",
       "      <td>Jun 23, 2004</td>\n",
       "      <td>Lionsgate</td>\n",
       "      <td>7.5</td>\n",
       "      <td>67.0</td>\n",
       "      <td>125629</td>\n",
       "      <td>2h 2min</td>\n",
       "      <td>25 June 2004 (USA)</td>\n",
       "      <td>Michael Moore</td>\n",
       "    </tr>\n",
       "    <tr>\n",
       "      <th>1</th>\n",
       "      <td>2</td>\n",
       "      <td>March of the Penguins</td>\n",
       "      <td>77437223</td>\n",
       "      <td>2,506</td>\n",
       "      <td>137492.0</td>\n",
       "      <td>4</td>\n",
       "      <td>Jun 24, 2005</td>\n",
       "      <td>Warner Independent Pictures (WIP)</td>\n",
       "      <td>7.5</td>\n",
       "      <td>79.0</td>\n",
       "      <td>55375</td>\n",
       "      <td>1h 20min</td>\n",
       "      <td>22 July 2005 (USA)</td>\n",
       "      <td>Luc Jacquet</td>\n",
       "    </tr>\n",
       "    <tr>\n",
       "      <th>2</th>\n",
       "      <td>3</td>\n",
       "      <td>Justin Bieber: Never Say Never</td>\n",
       "      <td>73013910</td>\n",
       "      <td>3,118</td>\n",
       "      <td>29514054.0</td>\n",
       "      <td>3,105</td>\n",
       "      <td>Feb 11, 2011</td>\n",
       "      <td>Paramount Pictures</td>\n",
       "      <td>1.6</td>\n",
       "      <td>NaN</td>\n",
       "      <td>75071</td>\n",
       "      <td>1h 45min</td>\n",
       "      <td>11 February 2011 (USA)</td>\n",
       "      <td>Jon M. Chu</td>\n",
       "    </tr>\n",
       "    <tr>\n",
       "      <th>3</th>\n",
       "      <td>4</td>\n",
       "      <td>This Is It</td>\n",
       "      <td>72091016</td>\n",
       "      <td>3,481</td>\n",
       "      <td>23234394.0</td>\n",
       "      <td>3,481</td>\n",
       "      <td>Oct 28, 2009</td>\n",
       "      <td>Sony Pictures Entertainment (SPE)</td>\n",
       "      <td>7.2</td>\n",
       "      <td>67.0</td>\n",
       "      <td>38161</td>\n",
       "      <td>1h 51min</td>\n",
       "      <td>28 October 2009 (USA)</td>\n",
       "      <td>Kenny Ortega</td>\n",
       "    </tr>\n",
       "    <tr>\n",
       "      <th>4</th>\n",
       "      <td>5</td>\n",
       "      <td>Under the Sea 3D</td>\n",
       "      <td>36262926</td>\n",
       "      <td>108</td>\n",
       "      <td>661185.0</td>\n",
       "      <td>49</td>\n",
       "      <td>Feb 13, 2009</td>\n",
       "      <td>Warner Bros.</td>\n",
       "      <td>7.5</td>\n",
       "      <td>77.0</td>\n",
       "      <td>1730</td>\n",
       "      <td>41min</td>\n",
       "      <td>13 February 2009 (USA)</td>\n",
       "      <td>Howard Hall</td>\n",
       "    </tr>\n",
       "  </tbody>\n",
       "</table>\n",
       "</div>"
      ],
      "text/plain": [
       "  Rank_MOJO                           Title  Lifetime Gross_MOJO Max Theaters  \\\n",
       "0         1                 Fahrenheit 9/11            119194771        2,011   \n",
       "1         2           March of the Penguins             77437223        2,506   \n",
       "2         3  Justin Bieber: Never Say Never             73013910        3,118   \n",
       "3         4                      This Is It             72091016        3,481   \n",
       "4         5                Under the Sea 3D             36262926          108   \n",
       "\n",
       "   Opening Box Opening Th  Release Date                        Distributor  \\\n",
       "0   23920637.0        868  Jun 23, 2004                          Lionsgate   \n",
       "1     137492.0          4  Jun 24, 2005  Warner Independent Pictures (WIP)   \n",
       "2   29514054.0      3,105  Feb 11, 2011                 Paramount Pictures   \n",
       "3   23234394.0      3,481  Oct 28, 2009  Sony Pictures Entertainment (SPE)   \n",
       "4     661185.0         49  Feb 13, 2009                       Warner Bros.   \n",
       "\n",
       "   User Rating_IMDB  Metacritic  Number of Votes_IMDB Running Time  \\\n",
       "0               7.5        67.0                125629      2h 2min   \n",
       "1               7.5        79.0                 55375     1h 20min   \n",
       "2               1.6         NaN                 75071     1h 45min   \n",
       "3               7.2        67.0                 38161     1h 51min   \n",
       "4               7.5        77.0                  1730        41min   \n",
       "\n",
       "        Release Date_IMDB       Director  \n",
       "0      25 June 2004 (USA)  Michael Moore  \n",
       "1      22 July 2005 (USA)    Luc Jacquet  \n",
       "2  11 February 2011 (USA)     Jon M. Chu  \n",
       "3   28 October 2009 (USA)   Kenny Ortega  \n",
       "4  13 February 2009 (USA)    Howard Hall  "
      ]
     },
     "execution_count": 31,
     "metadata": {},
     "output_type": "execute_result"
    }
   ],
   "source": [
    "imdb_mojo.head()"
   ]
  },
  {
   "cell_type": "code",
   "execution_count": null,
   "metadata": {},
   "outputs": [],
   "source": [
    "imdb_mojo['Release Date'] = pd.to_datetime(imdb_mojo['Release Date'], format=specify your format) "
   ]
  },
  {
   "cell_type": "code",
   "execution_count": null,
   "metadata": {},
   "outputs": [],
   "source": [
    "unique_distributor = imdb_mojo.groupby('Distributor').nunique()\n"
   ]
  },
  {
   "cell_type": "code",
   "execution_count": null,
   "metadata": {},
   "outputs": [],
   "source": [
    "unique_distributor[0:150]"
   ]
  },
  {
   "cell_type": "code",
   "execution_count": null,
   "metadata": {},
   "outputs": [],
   "source": [
    "'''\n",
    "data_bxoff.to_csv('data_bxoff.csv')\n",
    "data_topdoc.to_csv('data_topdoc.csv')\n",
    "data_imdb.to_csv('data_imdb.csv')\n",
    "data_mojo.to_csv('data_mojo.csv')"
   ]
  },
  {
   "cell_type": "code",
   "execution_count": null,
   "metadata": {},
   "outputs": [],
   "source": []
  }
 ],
 "metadata": {
  "kernelspec": {
   "display_name": "Python 3",
   "language": "python",
   "name": "python3"
  },
  "language_info": {
   "codemirror_mode": {
    "name": "ipython",
    "version": 3
   },
   "file_extension": ".py",
   "mimetype": "text/x-python",
   "name": "python",
   "nbconvert_exporter": "python",
   "pygments_lexer": "ipython3",
   "version": "3.8.3"
  }
 },
 "nbformat": 4,
 "nbformat_minor": 4
}
