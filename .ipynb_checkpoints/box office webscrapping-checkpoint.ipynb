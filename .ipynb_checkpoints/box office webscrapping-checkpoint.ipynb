{
 "cells": [
  {
   "cell_type": "code",
   "execution_count": 18,
   "metadata": {},
   "outputs": [],
   "source": [
    "from bs4 import BeautifulSoup\n",
    "import requests\n",
    "\n",
    "from datetime import datetime\n",
    "import numpy as np\n",
    "import pandas as pd\n",
    "import re\n",
    "import pickle as pkl"
   ]
  },
  {
   "cell_type": "code",
   "execution_count": 19,
   "metadata": {},
   "outputs": [],
   "source": [
    "source_code = requests.get('https://www.the-numbers.com/box-office-records/worldwide/all-movies/genres/documentary')\n",
    "soup = BeautifulSoup(source_code.text, 'html5lib')\n"
   ]
  },
  {
   "cell_type": "code",
   "execution_count": null,
   "metadata": {},
   "outputs": [],
   "source": [
    "table = soup.find('table')\n",
    "table_rows = table.find_all('tr')\n",
    "final_list = []\n",
    "for tr in table_rows:\n",
    "    td = tr.find_all('td')\n",
    "    row = [i.text for i in td]\n",
    "    final_list.append(row)\n",
    "print(final_list)"
   ]
  },
  {
   "cell_type": "code",
   "execution_count": null,
   "metadata": {},
   "outputs": [],
   "source": [
    "names = ['Rank', 'Year', 'Title', 'Worldwide Box Office', 'Domestic Box Office', 'International Box Office']\n",
    "df = pd.DataFrame(final_list, columns = names)"
   ]
  },
  {
   "cell_type": "code",
   "execution_count": null,
   "metadata": {},
   "outputs": [],
   "source": [
    "df = df[1:]\n",
    "df"
   ]
  },
  {
   "cell_type": "code",
   "execution_count": null,
   "metadata": {},
   "outputs": [],
   "source": [
    "type(df)"
   ]
  },
  {
   "cell_type": "code",
   "execution_count": 22,
   "metadata": {},
   "outputs": [
    {
     "name": "stdout",
     "output_type": "stream",
     "text": [
      "['/box-office-records/worldwide/all-movies/genres/documentary', '/box-office-records/worldwide/all-movies/genres/documentary', '/box-office-records/worldwide/all-movies/genres/documentary', '/box-office-records/worldwide/all-movies/genres/documentary', '/box-office-records/worldwide/all-movies/genres/documentary', '/box-office-records/worldwide/all-movies/genres/documentary', '/box-office-records/worldwide/all-movies/genres/documentary', '/box-office-records/worldwide/all-movies/genres/documentary', '/box-office-records/worldwide/all-movies/genres/documentary', '/box-office-records/worldwide/all-movies/genres/documentary', '/box-office-records/worldwide/all-movies/genres/documentary', '/box-office-records/worldwide/all-movies/genres/documentary', '/box-office-records/worldwide/all-movies/genres/documentary']\n"
     ]
    }
   ],
   "source": [
    "def next_page(soup):\n",
    "    urls = []\n",
    "    part_link = soup.find(class_='pagination')\n",
    "    for i in part_link:\n",
    "        link = part_link.find('a').get('href')\n",
    "        urls.append(link)\n",
    "    return urls\n",
    "print(next_page(soup)) "
   ]
  },
  {
   "cell_type": "code",
   "execution_count": 21,
   "metadata": {},
   "outputs": [
    {
     "data": {
      "text/plain": [
       "13"
      ]
     },
     "execution_count": 21,
     "metadata": {},
     "output_type": "execute_result"
    }
   ],
   "source": [
    "part_link = soup.find(class_='pagination')\n",
    "len(part_link)"
   ]
  },
  {
   "cell_type": "code",
   "execution_count": null,
   "metadata": {},
   "outputs": [],
   "source": [
    "\"\"\"\n",
    "table = soup.find(\"table\", { \"class\" : \"lineItemsTable\" })\n",
    "for row in table.findAll(\"tr\"):\n",
    "    cells = row.findAll(\"td\")\n",
    "    print cells"
   ]
  }
 ],
 "metadata": {
  "kernelspec": {
   "display_name": "Python 3",
   "language": "python",
   "name": "python3"
  },
  "language_info": {
   "codemirror_mode": {
    "name": "ipython",
    "version": 3
   },
   "file_extension": ".py",
   "mimetype": "text/x-python",
   "name": "python",
   "nbconvert_exporter": "python",
   "pygments_lexer": "ipython3",
   "version": "3.8.3"
  }
 },
 "nbformat": 4,
 "nbformat_minor": 4
}
