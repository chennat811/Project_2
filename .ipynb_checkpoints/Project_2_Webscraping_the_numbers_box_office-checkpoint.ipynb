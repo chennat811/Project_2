{
 "cells": [
  {
   "cell_type": "code",
   "execution_count": 1,
   "metadata": {},
   "outputs": [],
   "source": [
    "from bs4 import BeautifulSoup\n",
    "import requests\n",
    "\n",
    "from datetime import datetime\n",
    "import numpy as np\n",
    "import pandas as pd\n",
    "import re\n",
    "import pickle as pkl"
   ]
  },
  {
   "cell_type": "code",
   "execution_count": 5,
   "metadata": {},
   "outputs": [],
   "source": [
    "#Scrape box office information from the-numbers website for documentaries.\n",
    "#Obtain information from the table for all pages.\n",
    "links =[]\n",
    "links.append('https://www.the-numbers.com/box-office-records/worldwide/all-movies/genres/documentary')\n",
    "for i in range(0, 11):\n",
    "    link = 'https://www.the-numbers.com/box-office-records/worldwide/all-movies/genres/documentary/' + str(i+1) +'01'\n",
    "    links.append(link)\n",
    "\n",
    "final_list = []\n",
    "for link in links:\n",
    "    source_code = requests.get(link)\n",
    "    soup = BeautifulSoup(source_code.text, 'html5lib')\n",
    "    table = soup.find('table')\n",
    "    table_rows = table.find_all('tr')\n",
    "    for tr in table_rows:\n",
    "        td = tr.find_all('td')\n",
    "        row = [i.text for i in td]\n",
    "        final_list.append(row)\n",
    "#Create a dataframe from scaped information\n",
    "names = ['Rank', 'Year', 'Title', 'Worldwide Box Office', 'Domestic Box Office', 'International Box Office']\n",
    "df = pd.DataFrame(final_list, columns = names)  \n",
    "df = df[1:]"
   ]
  },
  {
   "cell_type": "code",
   "execution_count": 7,
   "metadata": {},
   "outputs": [],
   "source": [
    "df.to_pickle('box_office.pkl')"
   ]
  }
 ],
 "metadata": {
  "kernelspec": {
   "display_name": "Python 3",
   "language": "python",
   "name": "python3"
  },
  "language_info": {
   "codemirror_mode": {
    "name": "ipython",
    "version": 3
   },
   "file_extension": ".py",
   "mimetype": "text/x-python",
   "name": "python",
   "nbconvert_exporter": "python",
   "pygments_lexer": "ipython3",
   "version": "3.8.3"
  }
 },
 "nbformat": 4,
 "nbformat_minor": 4
}
