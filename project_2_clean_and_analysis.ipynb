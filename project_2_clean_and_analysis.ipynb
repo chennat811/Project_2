{
 "cells": [
  {
   "cell_type": "code",
   "execution_count": null,
   "metadata": {},
   "outputs": [],
   "source": [
    "%matplotlib inline\n",
    "import sys\n",
    "import pandas as pd\n",
    "import matplotlib.pyplot as plt\n",
    "import seaborn as sns\n",
    "import numpy as np\n",
    "import datetime as datetime\n",
    "import statsmodels.api as sm\n",
    "from sklearn.linear_model import LinearRegression\n",
    "from sklearn.linear_model import LinearRegression\n",
    "from sklearn.model_selection import train_test_split\n",
    "from sklearn import preprocessing\n",
    "\n",
    "print(\"Python Version:\", sys.version)"
   ]
  },
  {
   "cell_type": "code",
   "execution_count": null,
   "metadata": {},
   "outputs": [],
   "source": [
    "data_imdb.head()"
   ]
  },
  {
   "cell_type": "code",
   "execution_count": null,
   "metadata": {},
   "outputs": [],
   "source": [
    "\"\"\"\n",
    "This was done to analyze the different datasets.\n",
    "The imdb_mojo dataset was prepared and chosen for further analysis\n",
    "\"\"\"\n",
    "#Read the four available datasets and rename columns. \n",
    "data_bxoff = pd.read_pickle('box_office.pkl')\n",
    "data_topdoc = pd.read_pickle('top_doc.pkl')\n",
    "data_imdb = pd.read_csv('IMDB_byVote.csv')\n",
    "data_mojo = pd.read_pickle('mojo.pkl')\n",
    "data_bxoff.rename(columns={'Rank':'Rank_BX', 'Year':'Year', \n",
    "                          'Title':'Title', 'Worldwide Box Office':'Worldwide_Box_Office_BX',\n",
    "                          'Domestic Box Office':'Domestic_Box_Office_BX', \n",
    "                          'International Box Office':'International_Box_Office_BX'}, inplace = True)\n",
    "data_topdoc.rename(columns = {'Title':'Title', 'User_Rating_Top_Doc':'User Rating_TD', 'Years':'Year_TD',\n",
    "                              'Category':'Category'}, inplace = True)\n",
    "data_imdb.rename(columns ={'Title':'Title', 'User Rating_IMDB':'User_Rating_IMDB', 'Metacritic':'Metacritic',\n",
    "                               'Number of Votes_IMDB':'Number_of_votes_IMDB', 'Running Time':'Running_Time', \n",
    "                               'Release Date_IMDB':'Release_Date_IMDB', 'Director':'Director'}, inplace = True)\n",
    "data_mojo.rename(columns = {'Mojo Rank':'Rank_MOJO_by_Box_office', 'Title':'Title', 'Lifetime Gross':'Lifetime_Gross_MOJO',\n",
    "                            'Max Theaters':'Max_Theaters', 'Opening':'Opening_Box', 'Opening Th':'Opening_Th', 'Release Date':'Release_Date',\n",
    "                            'Distributor':'Distributor'}, inplace = True)\n",
    "\n",
    "#Drop uncessary columns\n",
    "data_imdb.drop('Unnamed: 0', axis = 1, inplace = True)\n",
    "#Strip uncessary characters in distributor column\n",
    "data_mojo = data_mojo.apply(lambda x: x.str.strip('\\n \\n') if x.dtype == \"object\" else x)\n",
    "\n",
    "#Examine the shape of the datasets\n",
    "print('The shape of the IMDB data is: {}.'.format(data_imdb.shape))\n",
    "print('The shape of Box Office Mojo data is: {}'.format(data_mojo.shape))\n",
    "print('The shape of Top Documentary data is: {}.'.format(data_topdoc.shape))\n",
    "print('The shape of the-numbers box office data is: {}'.format(data_bxoff.shape))\n",
    "\n",
    "#Datasets were merged with IMDB dataset on title\n",
    "#Merging on titles caused the dataset to become smaller\n",
    "#IMDB merged with Box Office Mojo data gave the largest dataset to work with, 715 rows.\n",
    "imdb_topdoc = pd.merge(data_topdoc, data_imdb, on=['Title'])\n",
    "imdb_bxoff = pd.merge(data_bxoff, data_imdb, on=['Title'])\n",
    "imdb_mojo = pd.merge(data_mojo, data_imdb, on=['Title'])\n",
    "\n",
    "print('The shape of IMDB - Box Office Mojo data is: {}'.format(imdb_mojo.shape))\n",
    "print('The shape of IMDB - Top Documentary data is: {}.'.format(imdb_topdoc.shape))\n",
    "print('The shape of IMDB - the-numbers box office data is: {}'.format(imdb_bxoff.shape))"
   ]
  },
  {
   "cell_type": "code",
   "execution_count": null,
   "metadata": {},
   "outputs": [],
   "source": [
    "imdb_mojo.head()"
   ]
  },
  {
   "cell_type": "code",
   "execution_count": null,
   "metadata": {},
   "outputs": [],
   "source": [
    "#Save IMDB_mojo merged dataset as CSV \n",
    "#imdb_mojo.to_csv('imdb_mojo.csv')\n",
    "imdb_mojo= pd.read_csv('imdb_mojo.csv')"
   ]
  },
  {
   "cell_type": "code",
   "execution_count": null,
   "metadata": {},
   "outputs": [],
   "source": [
    "print('The shape of IMDB merged with Box Office Mojo data is: {}'.format(imdb_mojo.shape))"
   ]
  },
  {
   "cell_type": "code",
   "execution_count": null,
   "metadata": {
    "scrolled": true
   },
   "outputs": [],
   "source": [
    "#Clean data by removing '$',',', and '-'. \n",
    "#Convert values from string to numeric\n",
    "imdb_mojo['Lifetime_Gross_MOJO'] = imdb_mojo['Lifetime_Gross_MOJO'].replace({'\\$':''}, regex = True)\n",
    "imdb_mojo['Lifetime_Gross_MOJO'] = imdb_mojo['Lifetime_Gross_MOJO'].replace({',':''}, regex = True)\n",
    "imdb_mojo['Lifetime_Gross_MOJO'] = imdb_mojo['Lifetime_Gross_MOJO'].replace({'-':''}, regex = True)\n",
    "imdb_mojo['Lifetime_Gross_MOJO'] = pd.to_numeric(imdb_mojo['Lifetime_Gross_MOJO'])\n",
    "\n",
    "imdb_mojo['Opening_Box'] = imdb_mojo['Opening_Box'].replace({'\\$':''}, regex = True)\n",
    "imdb_mojo['Opening_Box'] = imdb_mojo['Opening_Box'].replace({',':''}, regex = True)\n",
    "imdb_mojo['Opening_Box'] = imdb_mojo['Opening_Box'].replace({'-':''}, regex = True)\n",
    "imdb_mojo['Opening_Box'] = pd.to_numeric(imdb_mojo['Opening_Box'])\n",
    "\n",
    "imdb_mojo['Number_of_votes_IMDB'] = imdb_mojo['Number_of_votes_IMDB'].replace({',':''}, regex = True)\n",
    "imdb_mojo['Number_of_votes_IMDB'] = pd.to_numeric(imdb_mojo['Number_of_votes_IMDB'])\n",
    "\n",
    "imdb_mojo['Rank_MOJO_by_Box_office'] = imdb_mojo['Rank_MOJO_by_Box_office'].replace({',':''}, regex = True)\n",
    "imdb_mojo['Rank_MOJO_by_Box_office'] = pd.to_numeric(imdb_mojo['Rank_MOJO_by_Box_office'])\n",
    "\n",
    "imdb_mojo['Max_Theaters'] = imdb_mojo['Max_Theaters'].replace({',':''}, regex = True)\n",
    "imdb_mojo['Max_Theaters'] = imdb_mojo['Max_Theaters'].replace({'-':''}, regex = True)\n",
    "imdb_mojo['Max_Theaters'] = pd.to_numeric(imdb_mojo['Max_Theaters'])\n",
    "\n",
    "imdb_mojo['Opening_Th'] = imdb_mojo['Opening_Th'].replace({'-':''}, regex = True)\n",
    "imdb_mojo['Opening_Th'] = imdb_mojo['Opening_Th'].replace({',':''}, regex = True)\n",
    "imdb_mojo['Opening_Th'] = pd.to_numeric(imdb_mojo['Opening_Th'])\n",
    "\n",
    "imdb_mojo['User_Rating_IMDB'] = pd.to_numeric(imdb_mojo['User_Rating_IMDB'])\n",
    "imdb_mojo['Metacritic'] = pd.to_numeric(imdb_mojo['Metacritic'])\n",
    "\n"
   ]
  },
  {
   "cell_type": "code",
   "execution_count": null,
   "metadata": {},
   "outputs": [],
   "source": [
    "#Both IMDB and Box Office Mojo datasets had release date, drop one of them\n",
    "imdb_mojo.drop(['Release_Date_IMDB','Unnamed: 0'], inplace = True, axis = 1)"
   ]
  },
  {
   "cell_type": "code",
   "execution_count": null,
   "metadata": {},
   "outputs": [],
   "source": [
    "#Convert to datetime\n",
    "#Use time delta to find difference between the select documentary and the oldest documentary in the list\n",
    "imdb_mojo['Release_Date'] = pd.to_datetime(imdb_mojo['Release_Date']) \n",
    "imdb_mojo['Release_Difference'] = (imdb_mojo['Release_Date']-imdb_mojo['Release_Date'].min())/np.timedelta64(1,'D')\n",
    "imdb_mojo.drop(['Release_Date'], inplace = True, axis = 1)"
   ]
  },
  {
   "cell_type": "code",
   "execution_count": null,
   "metadata": {},
   "outputs": [],
   "source": [
    "imdb_mojo.head()"
   ]
  },
  {
   "cell_type": "code",
   "execution_count": null,
   "metadata": {},
   "outputs": [],
   "source": [
    "#filter out rows without a metacritic score\n",
    "has_metacritic_df = imdb_mojo[imdb_mojo.Metacritic.notnull()]"
   ]
  },
  {
   "cell_type": "code",
   "execution_count": null,
   "metadata": {
    "scrolled": true
   },
   "outputs": [],
   "source": [
    "has_metacritic_df.describe()"
   ]
  },
  {
   "cell_type": "code",
   "execution_count": null,
   "metadata": {},
   "outputs": [],
   "source": [
    "has_metacritic_df.head()"
   ]
  },
  {
   "cell_type": "code",
   "execution_count": null,
   "metadata": {},
   "outputs": [],
   "source": [
    "no_metacritic_df = imdb_mojo[imdb_mojo.Metacritic.isnull()]"
   ]
  },
  {
   "cell_type": "code",
   "execution_count": null,
   "metadata": {},
   "outputs": [],
   "source": [
    "no_metacritic_df.shape"
   ]
  },
  {
   "cell_type": "code",
   "execution_count": null,
   "metadata": {},
   "outputs": [],
   "source": [
    "#There are 715 films and 149 distributors, with 353 titles made by 15 companies. Make 15 dummmy variables.\n",
    "#Categorize distributors that make less than 10 movies as 'other'.\n",
    "distributor_counts = imdb_mojo['Distributor'].value_counts()\n",
    "distributor_counts.head(50)"
   ]
  },
  {
   "cell_type": "code",
   "execution_count": null,
   "metadata": {},
   "outputs": [],
   "source": [
    "#Will make the correlation with box office numbers positive, before reversing, lots of negative correlations\n",
    "#imdb_mojo.Rank_MOJO_by_Box_office =  imdb_mojo.Rank_MOJO_by_Box_office.values[::-1]\n",
    "\n",
    "\"\"\"\n",
    "def new_rank(df):\n",
    "    for i in imdb_mojo['Rank_MOJO_by_Box_office']:\n",
    "        new_rank = 2055-i +1\n",
    "        imdb_mojo['Rank_MOJO_by_Box_office'][i] = new_rank\n",
    "#imdb_mojo.Rank_MOJO_by_Box_office =  imdb_mojo.Rank_MOJO_by_Box_office.values(2055-the current rank +1)\n",
    "new_rank(imdb_mojo)\n",
    "\"\"\"\n"
   ]
  },
  {
   "cell_type": "code",
   "execution_count": null,
   "metadata": {},
   "outputs": [],
   "source": [
    "#Will drop to 524 rows.\n",
    "#imdb_mojo = imdb_mojo.dropna()"
   ]
  },
  {
   "cell_type": "code",
   "execution_count": null,
   "metadata": {},
   "outputs": [],
   "source": [
    "imdb_mojo.dtypes"
   ]
  },
  {
   "cell_type": "code",
   "execution_count": null,
   "metadata": {},
   "outputs": [],
   "source": [
    "imdb_mojo.head()"
   ]
  },
  {
   "cell_type": "code",
   "execution_count": null,
   "metadata": {},
   "outputs": [],
   "source": [
    "has_metacritic_df.corr()"
   ]
  },
  {
   "cell_type": "code",
   "execution_count": null,
   "metadata": {},
   "outputs": [],
   "source": [
    "'''\n",
    "data_bxoff.to_csv('data_bxoff.csv')\n",
    "data_topdoc.to_csv('data_topdoc.csv')\n",
    "data_imdb.to_csv('data_imdb.csv')\n",
    "data_mojo.to_csv('data_mojo.csv')"
   ]
  },
  {
   "cell_type": "code",
   "execution_count": null,
   "metadata": {},
   "outputs": [],
   "source": [
    "#Drop Nas in imdb_mojo dataframe\n",
    "has_metacritic_df = has_metacritic_df.dropna()"
   ]
  },
  {
   "cell_type": "code",
   "execution_count": null,
   "metadata": {},
   "outputs": [],
   "source": [
    "has_metacritic_df.describe()"
   ]
  },
  {
   "cell_type": "code",
   "execution_count": null,
   "metadata": {},
   "outputs": [],
   "source": [
    "sns.pairplot(has_metacritic_df, kind = 'scatter')"
   ]
  },
  {
   "cell_type": "code",
   "execution_count": null,
   "metadata": {},
   "outputs": [],
   "source": [
    "sns.pairplot(has_metacritic_df, kind = 'kde')"
   ]
  },
  {
   "cell_type": "code",
   "execution_count": null,
   "metadata": {},
   "outputs": [],
   "source": [
    "#Using user rating by IMDB to predict Metacritic score\n",
    "lr_full = LinearRegression()\n",
    "X = has_metacritic_df['User_Rating_IMDB'].values.reshape(-1,1)\n",
    "y = has_metacritic_df['Metacritic']\n",
    "lr_full.fit(X,y)\n",
    "lr_full.score(X,y)"
   ]
  },
  {
   "cell_type": "code",
   "execution_count": null,
   "metadata": {},
   "outputs": [],
   "source": [
    "#Using three features; user rating by IMDB, Mojo ranking by box office, and max number of theaters\n",
    "lr_full = LinearRegression()\n",
    "X = has_metacritic_df.loc[:,['User_Rating_IMDB','Rank_MOJO_by_Box_office','Max_Theaters']]\n",
    "y = has_metacritic_df['Metacritic']\n",
    "lr_full.fit(X,y)\n",
    "lr_full.score(X,y)"
   ]
  },
  {
   "cell_type": "code",
   "execution_count": null,
   "metadata": {},
   "outputs": [],
   "source": [
    "#Using max theaters to predict lifetime gross\n",
    "lr_full = LinearRegression()\n",
    "X = has_metacritic_df['Max_Theaters'].values.reshape(-1,1)\n",
    "y = has_metacritic_df['Lifetime_Gross_MOJO']\n",
    "lr_full.fit(X,y)\n",
    "lr_full.score(X,y)"
   ]
  },
  {
   "cell_type": "code",
   "execution_count": null,
   "metadata": {},
   "outputs": [],
   "source": [
    "x = has_metacritic_df.Metacritic.values.reshape(-1,1)\n",
    "normalized_meta = preprocessing.normalize(x)\n",
    "normalized_meta"
   ]
  },
  {
   "cell_type": "code",
   "execution_count": null,
   "metadata": {},
   "outputs": [],
   "source": [
    "x2 = has_metacritic_df.User_Rating_IMDB.values.reshape(-1,1)\n",
    "normalized_user_rate = preprocessing.normalize(x2)\n",
    "normalized_user_rate"
   ]
  },
  {
   "cell_type": "code",
   "execution_count": null,
   "metadata": {},
   "outputs": [],
   "source": [
    "lr_full = LinearRegression()\n",
    "X = \n",
    "                                \n",
    "                                    "
   ]
  },
  {
   "cell_type": "code",
   "execution_count": null,
   "metadata": {},
   "outputs": [],
   "source": []
  }
 ],
 "metadata": {
  "kernelspec": {
   "display_name": "Python 3",
   "language": "python",
   "name": "python3"
  },
  "language_info": {
   "codemirror_mode": {
    "name": "ipython",
    "version": 3
   },
   "file_extension": ".py",
   "mimetype": "text/x-python",
   "name": "python",
   "nbconvert_exporter": "python",
   "pygments_lexer": "ipython3",
   "version": "3.8.3"
  }
 },
 "nbformat": 4,
 "nbformat_minor": 4
}
